{
 "cells": [
  {
   "cell_type": "markdown",
   "id": "0580bc62-ba89-4991-8d98-26e04d6b0293",
   "metadata": {},
   "source": [
    "\"I, Tarik Kalwar, did not use ChatGPT or any other AI/LLM to assist me on this assessment\""
   ]
  },
  {
   "cell_type": "code",
   "execution_count": 2,
   "id": "9699af2f-adbf-4ef3-8e7a-9e865f9b8fb4",
   "metadata": {},
   "outputs": [],
   "source": [
    "import pandas as pd\n",
    "import numpy as np\n",
    "import matplotlib.pyplot as plt\n",
    "import seaborn as sns"
   ]
  },
  {
   "cell_type": "markdown",
   "id": "39c3c68f-93f3-4f3a-b76f-2b2fd4e2a4a8",
   "metadata": {},
   "source": [
    "1. Create a Jupyter notebook and name it <firstname_gourds>. For example, John Smith's notebook would be named john_gourds.ipynb"
   ]
  },
  {
   "cell_type": "markdown",
   "id": "87c774c3-0ba6-4468-a287-5fc24a568933",
   "metadata": {},
   "source": [
    "2. Read in the gourds data into a DataFrame named gourds and look at the top 5 rows"
   ]
  },
  {
   "cell_type": "code",
   "execution_count": 5,
   "id": "9a9031f6-0b3a-40ea-8164-239ea3409f19",
   "metadata": {},
   "outputs": [
    {
     "data": {
      "text/html": [
       "<div>\n",
       "<style scoped>\n",
       "    .dataframe tbody tr th:only-of-type {\n",
       "        vertical-align: middle;\n",
       "    }\n",
       "\n",
       "    .dataframe tbody tr th {\n",
       "        vertical-align: top;\n",
       "    }\n",
       "\n",
       "    .dataframe thead th {\n",
       "        text-align: right;\n",
       "    }\n",
       "</style>\n",
       "<table border=\"1\" class=\"dataframe\">\n",
       "  <thead>\n",
       "    <tr style=\"text-align: right;\">\n",
       "      <th></th>\n",
       "      <th>year</th>\n",
       "      <th>type_id</th>\n",
       "      <th>weight</th>\n",
       "      <th>place</th>\n",
       "      <th>grower_name</th>\n",
       "      <th>city</th>\n",
       "      <th>state_prov</th>\n",
       "      <th>country</th>\n",
       "      <th>gpc_site</th>\n",
       "      <th>seed_mother</th>\n",
       "      <th>pollinator_father</th>\n",
       "      <th>ott</th>\n",
       "      <th>est_weight</th>\n",
       "      <th>variety</th>\n",
       "      <th>weight_bk</th>\n",
       "    </tr>\n",
       "  </thead>\n",
       "  <tbody>\n",
       "    <tr>\n",
       "      <th>0</th>\n",
       "      <td>2013</td>\n",
       "      <td>F</td>\n",
       "      <td>154.5 lb</td>\n",
       "      <td>1.0</td>\n",
       "      <td>Ellenbecker, Todd &amp; Sequoia</td>\n",
       "      <td>Gleason</td>\n",
       "      <td>Wisconsin</td>\n",
       "      <td>United States</td>\n",
       "      <td>Nekoosa Giant Pumpkin Fest</td>\n",
       "      <td>209 Werner</td>\n",
       "      <td>Self</td>\n",
       "      <td>184.0</td>\n",
       "      <td>129.0</td>\n",
       "      <td>NaN</td>\n",
       "      <td>154.5</td>\n",
       "    </tr>\n",
       "    <tr>\n",
       "      <th>1</th>\n",
       "      <td>2013</td>\n",
       "      <td>F</td>\n",
       "      <td>146.5 lb</td>\n",
       "      <td>2.0</td>\n",
       "      <td>Razo, Steve</td>\n",
       "      <td>New Middletown</td>\n",
       "      <td>Ohio</td>\n",
       "      <td>United States</td>\n",
       "      <td>Ohio Valley Giant Pumpkin Growers Weigh-off</td>\n",
       "      <td>150.5 Snyder</td>\n",
       "      <td>NaN</td>\n",
       "      <td>194.0</td>\n",
       "      <td>151.0</td>\n",
       "      <td>NaN</td>\n",
       "      <td>146.5</td>\n",
       "    </tr>\n",
       "    <tr>\n",
       "      <th>2</th>\n",
       "      <td>2013</td>\n",
       "      <td>F</td>\n",
       "      <td>145.0 lb</td>\n",
       "      <td>3.0</td>\n",
       "      <td>Ellenbecker, Todd &amp; Sequoia</td>\n",
       "      <td>Glenson</td>\n",
       "      <td>Wisconsin</td>\n",
       "      <td>United States</td>\n",
       "      <td>Mishicot Pumpkin Fest</td>\n",
       "      <td>209 Werner</td>\n",
       "      <td>103 Mackinnon</td>\n",
       "      <td>177.0</td>\n",
       "      <td>115.0</td>\n",
       "      <td>NaN</td>\n",
       "      <td>145.0</td>\n",
       "    </tr>\n",
       "    <tr>\n",
       "      <th>3</th>\n",
       "      <td>2013</td>\n",
       "      <td>F</td>\n",
       "      <td>140.8 lb</td>\n",
       "      <td>4.0</td>\n",
       "      <td>Martin, Margaret &amp; Glen</td>\n",
       "      <td>Combined Locks</td>\n",
       "      <td>Wisconsin</td>\n",
       "      <td>United States</td>\n",
       "      <td>Cedarburg Wine and Harvest Festival</td>\n",
       "      <td>109 Martin '12</td>\n",
       "      <td>209 Werner '12</td>\n",
       "      <td>194.0</td>\n",
       "      <td>151.0</td>\n",
       "      <td>NaN</td>\n",
       "      <td>140.8</td>\n",
       "    </tr>\n",
       "    <tr>\n",
       "      <th>4</th>\n",
       "      <td>2013</td>\n",
       "      <td>F</td>\n",
       "      <td>139.0 lb</td>\n",
       "      <td>5.5</td>\n",
       "      <td>Barlow, John</td>\n",
       "      <td>NaN</td>\n",
       "      <td>Wisconsin</td>\n",
       "      <td>United States</td>\n",
       "      <td>Stillwater Harvestfest</td>\n",
       "      <td>130.5 McKinnon</td>\n",
       "      <td>open</td>\n",
       "      <td>0.0</td>\n",
       "      <td>0.0</td>\n",
       "      <td>NaN</td>\n",
       "      <td>139.0</td>\n",
       "    </tr>\n",
       "  </tbody>\n",
       "</table>\n",
       "</div>"
      ],
      "text/plain": [
       "   year type_id    weight  place                  grower_name            city  \\\n",
       "0  2013       F  154.5 lb    1.0  Ellenbecker, Todd & Sequoia         Gleason   \n",
       "1  2013       F  146.5 lb    2.0                  Razo, Steve  New Middletown   \n",
       "2  2013       F  145.0 lb    3.0  Ellenbecker, Todd & Sequoia         Glenson   \n",
       "3  2013       F  140.8 lb    4.0      Martin, Margaret & Glen  Combined Locks   \n",
       "4  2013       F  139.0 lb    5.5                 Barlow, John             NaN   \n",
       "\n",
       "  state_prov        country                                     gpc_site  \\\n",
       "0  Wisconsin  United States                   Nekoosa Giant Pumpkin Fest   \n",
       "1       Ohio  United States  Ohio Valley Giant Pumpkin Growers Weigh-off   \n",
       "2  Wisconsin  United States                        Mishicot Pumpkin Fest   \n",
       "3  Wisconsin  United States          Cedarburg Wine and Harvest Festival   \n",
       "4  Wisconsin  United States                       Stillwater Harvestfest   \n",
       "\n",
       "      seed_mother pollinator_father    ott  est_weight variety  weight_bk  \n",
       "0      209 Werner              Self  184.0       129.0     NaN      154.5  \n",
       "1    150.5 Snyder               NaN  194.0       151.0     NaN      146.5  \n",
       "2      209 Werner     103 Mackinnon  177.0       115.0     NaN      145.0  \n",
       "3  109 Martin '12    209 Werner '12  194.0       151.0     NaN      140.8  \n",
       "4  130.5 McKinnon              open    0.0         0.0     NaN      139.0  "
      ]
     },
     "execution_count": 5,
     "metadata": {},
     "output_type": "execute_result"
    }
   ],
   "source": [
    "gourds = pd.read_csv(\"C:/Users/user/Desktop/Cohort10/Python/Python Final/python-assessment-Tarikwk/gourds.csv\")\n",
    "gourds.head(5)"
   ]
  },
  {
   "cell_type": "markdown",
   "id": "5104acce-6e89-41af-90ad-15814ce579c5",
   "metadata": {},
   "source": [
    "3a. Which country shows up the most frequently in the dataset? "
   ]
  },
  {
   "cell_type": "code",
   "execution_count": 7,
   "id": "c57d3e5a-b51b-4ca9-a054-c2f20f361ff9",
   "metadata": {},
   "outputs": [
    {
     "data": {
      "text/html": [
       "<div>\n",
       "<style scoped>\n",
       "    .dataframe tbody tr th:only-of-type {\n",
       "        vertical-align: middle;\n",
       "    }\n",
       "\n",
       "    .dataframe tbody tr th {\n",
       "        vertical-align: top;\n",
       "    }\n",
       "\n",
       "    .dataframe thead th {\n",
       "        text-align: right;\n",
       "    }\n",
       "</style>\n",
       "<table border=\"1\" class=\"dataframe\">\n",
       "  <thead>\n",
       "    <tr style=\"text-align: right;\">\n",
       "      <th></th>\n",
       "      <th>country</th>\n",
       "      <th>count</th>\n",
       "    </tr>\n",
       "  </thead>\n",
       "  <tbody>\n",
       "    <tr>\n",
       "      <th>0</th>\n",
       "      <td>United States</td>\n",
       "      <td>17070</td>\n",
       "    </tr>\n",
       "    <tr>\n",
       "      <th>1</th>\n",
       "      <td>Canada</td>\n",
       "      <td>4522</td>\n",
       "    </tr>\n",
       "    <tr>\n",
       "      <th>2</th>\n",
       "      <td>Germany</td>\n",
       "      <td>2175</td>\n",
       "    </tr>\n",
       "    <tr>\n",
       "      <th>3</th>\n",
       "      <td>Italy</td>\n",
       "      <td>846</td>\n",
       "    </tr>\n",
       "    <tr>\n",
       "      <th>4</th>\n",
       "      <td>Austria</td>\n",
       "      <td>602</td>\n",
       "    </tr>\n",
       "  </tbody>\n",
       "</table>\n",
       "</div>"
      ],
      "text/plain": [
       "         country  count\n",
       "0  United States  17070\n",
       "1         Canada   4522\n",
       "2        Germany   2175\n",
       "3          Italy    846\n",
       "4        Austria    602"
      ]
     },
     "execution_count": 7,
     "metadata": {},
     "output_type": "execute_result"
    }
   ],
   "source": [
    "most_country = gourds.country.value_counts().reset_index()\n",
    "most_country = most_country.head(5)\n",
    "most_country"
   ]
  },
  {
   "cell_type": "markdown",
   "id": "91044584-f4ca-41a9-a538-1cd0a9c0f744",
   "metadata": {},
   "source": [
    "3b. Create a visualization (your choice) to show the frequency of appearances for the top 5 countries in terms of number of appearances."
   ]
  },
  {
   "cell_type": "code",
   "execution_count": 9,
   "id": "15e0886a-a316-4bff-81f4-72eb9a3fb474",
   "metadata": {},
   "outputs": [
    {
     "name": "stderr",
     "output_type": "stream",
     "text": [
      "C:\\Users\\user\\AppData\\Local\\Temp\\ipykernel_4664\\433538057.py:2: FutureWarning: \n",
      "\n",
      "Passing `palette` without assigning `hue` is deprecated and will be removed in v0.14.0. Assign the `x` variable to `hue` and set `legend=False` for the same effect.\n",
      "\n",
      "  sns.barplot(x='country', y='count', data = most_country, palette ='plasma')\n"
     ]
    },
    {
     "data": {
      "text/plain": [
       "<Axes: xlabel='country', ylabel='count'>"
      ]
     },
     "execution_count": 9,
     "metadata": {},
     "output_type": "execute_result"
    },
    {
     "data": {
      "image/png": "[encoded data removed]",
      "text/plain": [
       "<Figure size 1200x600 with 1 Axes>"
      ]
     },
     "metadata": {},
     "output_type": "display_data"
    }
   ],
   "source": [
    "plt.figure(figsize=(12, 6))\n",
    "sns.barplot(x='country', y='count', data = most_country, palette ='plasma')"
   ]
  },
  {
   "cell_type": "markdown",
   "id": "784015b2-3477-4eb2-b505-7dcc3d38af65",
   "metadata": {},
   "source": [
    "4a. The weight column currently contains a unit (\"in\" for Long Gourds and \"lb\" for every other type). \n",
    "    Remove the unit from this so that you just have the numeric value. "
   ]
  },
  {
   "cell_type": "code",
   "execution_count": 11,
   "id": "9dafc197-eb38-46f0-a783-84ffcff0687f",
   "metadata": {},
   "outputs": [
    {
     "data": {
      "text/plain": [
       "0        154.5 lb\n",
       "1        146.5 lb\n",
       "2        145.0 lb\n",
       "3        140.8 lb\n",
       "4        139.0 lb\n",
       "           ...   \n",
       "28006    181.0 lb\n",
       "28007    159.5 lb\n",
       "28008    141.0 lb\n",
       "28009    116.5 lb\n",
       "28010     16.3 lb\n",
       "Name: weight, Length: 28011, dtype: object"
      ]
     },
     "execution_count": 11,
     "metadata": {},
     "output_type": "execute_result"
    }
   ],
   "source": [
    "gourds['weight']#.reset_index()"
   ]
  },
  {
   "cell_type": "code",
   "execution_count": 12,
   "id": "a9b0bac6-f712-428e-89cb-5ec5c4af7cf7",
   "metadata": {},
   "outputs": [],
   "source": [
    "gourds['weight'] = gourds['weight'].str.replace('lb', '', regex=False) \n",
    "gourds['weight'] = gourds['weight'].str.replace('in', '', regex=False) "
   ]
  },
  {
   "cell_type": "markdown",
   "id": "e29aed52-b8bf-4829-ac65-fd83a1dc14f5",
   "metadata": {},
   "source": [
    "4b. Save the result back to the weight column."
   ]
  },
  {
   "cell_type": "code",
   "execution_count": 14,
   "id": "737e1199-6b7c-443d-a1f9-526a23de922a",
   "metadata": {},
   "outputs": [],
   "source": [
    "#gourds.loc[gourds.grower_name == 'Bowman, Ross']\n",
    "#trying to figure out why I'm not getting the max weight"
   ]
  },
  {
   "cell_type": "markdown",
   "id": "21c04146-35e7-4ee9-8a9f-1c4f2737c22e",
   "metadata": {},
   "source": [
    "4c. Sort the values on the weight column. (Heaviest gourd should weigh 2702.9lbs)\n",
    "If you cannot find a solution for this question, you can use the weight_bk to answer the questions below that rely on it."
   ]
  },
  {
   "cell_type": "code",
   "execution_count": 16,
   "id": "7e16ee37-e8b0-40bf-9683-e88b70afeff8",
   "metadata": {},
   "outputs": [
    {
     "data": {
      "text/html": [
       "<div>\n",
       "<style scoped>\n",
       "    .dataframe tbody tr th:only-of-type {\n",
       "        vertical-align: middle;\n",
       "    }\n",
       "\n",
       "    .dataframe tbody tr th {\n",
       "        vertical-align: top;\n",
       "    }\n",
       "\n",
       "    .dataframe thead th {\n",
       "        text-align: right;\n",
       "    }\n",
       "</style>\n",
       "<table border=\"1\" class=\"dataframe\">\n",
       "  <thead>\n",
       "    <tr style=\"text-align: right;\">\n",
       "      <th></th>\n",
       "      <th>year</th>\n",
       "      <th>type_id</th>\n",
       "      <th>weight</th>\n",
       "      <th>place</th>\n",
       "      <th>grower_name</th>\n",
       "      <th>city</th>\n",
       "      <th>state_prov</th>\n",
       "      <th>country</th>\n",
       "      <th>gpc_site</th>\n",
       "      <th>seed_mother</th>\n",
       "      <th>pollinator_father</th>\n",
       "      <th>ott</th>\n",
       "      <th>est_weight</th>\n",
       "      <th>variety</th>\n",
       "      <th>weight_bk</th>\n",
       "    </tr>\n",
       "  </thead>\n",
       "  <tbody>\n",
       "    <tr>\n",
       "      <th>20110</th>\n",
       "      <td>2019</td>\n",
       "      <td>P</td>\n",
       "      <td>999.8</td>\n",
       "      <td>556.0</td>\n",
       "      <td>Verbraeken, alois</td>\n",
       "      <td>Rijkevorsel</td>\n",
       "      <td>Antwerp</td>\n",
       "      <td>Belgium</td>\n",
       "      <td>Belgisch Kampioenschap pompoenwegen</td>\n",
       "      <td>1867,3Biermans2018</td>\n",
       "      <td>1867,3Biermans2018</td>\n",
       "      <td>350.0</td>\n",
       "      <td>982.0</td>\n",
       "      <td>NaN</td>\n",
       "      <td>999.8</td>\n",
       "    </tr>\n",
       "  </tbody>\n",
       "</table>\n",
       "</div>"
      ],
      "text/plain": [
       "       year type_id  weight  place        grower_name         city state_prov  \\\n",
       "20110  2019       P  999.8   556.0  Verbraeken, alois  Rijkevorsel    Antwerp   \n",
       "\n",
       "       country                             gpc_site         seed_mother  \\\n",
       "20110  Belgium  Belgisch Kampioenschap pompoenwegen  1867,3Biermans2018   \n",
       "\n",
       "        pollinator_father    ott  est_weight variety  weight_bk  \n",
       "20110  1867,3Biermans2018  350.0       982.0     NaN      999.8  "
      ]
     },
     "execution_count": 16,
     "metadata": {},
     "output_type": "execute_result"
    }
   ],
   "source": [
    "gourds.sort_values('weight', ascending = False).head(1)"
   ]
  },
  {
   "cell_type": "code",
   "execution_count": 17,
   "id": "72357f0d-67b3-4546-a09d-179f33c14f0b",
   "metadata": {},
   "outputs": [
    {
     "data": {
      "text/plain": [
       "0        154.5 \n",
       "1        146.5 \n",
       "2        145.0 \n",
       "3        140.8 \n",
       "4        139.0 \n",
       "          ...  \n",
       "28006    181.0 \n",
       "28007    159.5 \n",
       "28008    141.0 \n",
       "28009    116.5 \n",
       "28010     16.3 \n",
       "Name: weight, Length: 28011, dtype: object"
      ]
     },
     "execution_count": 17,
     "metadata": {},
     "output_type": "execute_result"
    }
   ],
   "source": [
    "gourds['weight']"
   ]
  },
  {
   "cell_type": "code",
   "execution_count": 18,
   "id": "656b8eb7-23c0-42b6-ad1d-7c4021560192",
   "metadata": {},
   "outputs": [],
   "source": [
    "#gourds['weight'] = gourds['weight'].astype(int)\n",
    "#tried to change to integer and got this error 'ValueError: invalid literal for int() with base 10: '154.5 '\n",
    "#researched the issue. might be because of extra white spaces?"
   ]
  },
  {
   "cell_type": "code",
   "execution_count": 19,
   "id": "593c8795-69f9-4e7f-a6e8-937909036b57",
   "metadata": {},
   "outputs": [],
   "source": [
    "str_cols = gourds.select_dtypes(include='object').columns"
   ]
  },
  {
   "cell_type": "code",
   "execution_count": 20,
   "id": "854199d0-e7bf-4e2c-944e-13d267353b0f",
   "metadata": {},
   "outputs": [],
   "source": [
    "for col in str_cols:\n",
    "    gourds[col] = gourds[col].astype(str).apply(lambda x: ' '.join(x.split()))"
   ]
  },
  {
   "cell_type": "code",
   "execution_count": 21,
   "id": "35188312-1bae-4914-b02a-cf87a22d5aae",
   "metadata": {},
   "outputs": [],
   "source": [
    "gourds.columns = gourds.columns.str.strip()"
   ]
  },
  {
   "cell_type": "code",
   "execution_count": 22,
   "id": "911e5fd8-e595-4cf3-817c-5660707d0503",
   "metadata": {},
   "outputs": [],
   "source": [
    "#gourds['weight'] = gourds['weight'].astype(int)\n",
    "#ran again and still  got this error 'ValueError: invalid literal for int() with base 10: '154.5 '"
   ]
  },
  {
   "cell_type": "code",
   "execution_count": 23,
   "id": "b0dcdcad-4802-4357-b79d-60214ee240e3",
   "metadata": {},
   "outputs": [],
   "source": [
    "#may come back to this after I get through a few more. "
   ]
  },
  {
   "cell_type": "code",
   "execution_count": 24,
   "id": "741a79e0-3bac-42f9-b287-00907dc61a47",
   "metadata": {},
   "outputs": [
    {
     "data": {
      "text/html": [
       "<div>\n",
       "<style scoped>\n",
       "    .dataframe tbody tr th:only-of-type {\n",
       "        vertical-align: middle;\n",
       "    }\n",
       "\n",
       "    .dataframe tbody tr th {\n",
       "        vertical-align: top;\n",
       "    }\n",
       "\n",
       "    .dataframe thead th {\n",
       "        text-align: right;\n",
       "    }\n",
       "</style>\n",
       "<table border=\"1\" class=\"dataframe\">\n",
       "  <thead>\n",
       "    <tr style=\"text-align: right;\">\n",
       "      <th></th>\n",
       "      <th>year</th>\n",
       "      <th>type_id</th>\n",
       "      <th>weight</th>\n",
       "      <th>place</th>\n",
       "      <th>grower_name</th>\n",
       "      <th>city</th>\n",
       "      <th>state_prov</th>\n",
       "      <th>country</th>\n",
       "      <th>gpc_site</th>\n",
       "      <th>seed_mother</th>\n",
       "      <th>pollinator_father</th>\n",
       "      <th>ott</th>\n",
       "      <th>est_weight</th>\n",
       "      <th>variety</th>\n",
       "      <th>weight_bk</th>\n",
       "    </tr>\n",
       "  </thead>\n",
       "  <tbody>\n",
       "    <tr>\n",
       "      <th>25730</th>\n",
       "      <td>2021</td>\n",
       "      <td>P</td>\n",
       "      <td>2702.9</td>\n",
       "      <td>1.0</td>\n",
       "      <td>Cutrupi, Stefano</td>\n",
       "      <td>Radda in Chianti</td>\n",
       "      <td>Tuscany</td>\n",
       "      <td>Italy</td>\n",
       "      <td>Campionato dello Zuccone</td>\n",
       "      <td>1885.5 Werner</td>\n",
       "      <td>Self</td>\n",
       "      <td>514.0</td>\n",
       "      <td>2553.0</td>\n",
       "      <td>nan</td>\n",
       "      <td>2702.9</td>\n",
       "    </tr>\n",
       "  </tbody>\n",
       "</table>\n",
       "</div>"
      ],
      "text/plain": [
       "       year type_id  weight  place       grower_name              city  \\\n",
       "25730  2021       P  2702.9    1.0  Cutrupi, Stefano  Radda in Chianti   \n",
       "\n",
       "      state_prov country                  gpc_site    seed_mother  \\\n",
       "25730    Tuscany   Italy  Campionato dello Zuccone  1885.5 Werner   \n",
       "\n",
       "      pollinator_father    ott  est_weight variety  weight_bk  \n",
       "25730              Self  514.0      2553.0     nan     2702.9  "
      ]
     },
     "execution_count": 24,
     "metadata": {},
     "output_type": "execute_result"
    }
   ],
   "source": [
    "gourds.sort_values('weight_bk', ascending = False).head(1)"
   ]
  },
  {
   "cell_type": "markdown",
   "id": "1a8e5930-aad7-4d30-a1f4-f5bae6e8331c",
   "metadata": {},
   "source": [
    "5.Create a line plot showing the trend in the heaviest gourd by year. What do you notice?"
   ]
  },
  {
   "cell_type": "code",
   "execution_count": 26,
   "id": "d1d66aaf-c418-4f9d-9442-1f1060c0c105",
   "metadata": {},
   "outputs": [
    {
     "data": {
      "text/plain": [
       "<Axes: xlabel='year', ylabel='weight_bk'>"
      ]
     },
     "execution_count": 26,
     "metadata": {},
     "output_type": "execute_result"
    },
    {
     "data": {
      "image/png": "[encoded data removed]",
      "text/plain": [
       "<Figure size 640x480 with 1 Axes>"
      ]
     },
     "metadata": {},
     "output_type": "display_data"
    }
   ],
   "source": [
    "sns.lineplot(x='year', y='weight_bk', data = gourds)\n",
    "#doesnt look right. values for weight_bk are inncorect? is it by avg? "
   ]
  },
  {
   "cell_type": "code",
   "execution_count": 27,
   "id": "58e833f0-c13d-4aa2-863b-1292adcd4978",
   "metadata": {},
   "outputs": [],
   "source": [
    "#weightbk = gourds[['year', 'weight_bk']]"
   ]
  },
  {
   "cell_type": "code",
   "execution_count": 28,
   "id": "20211d8b-9243-4fb1-8c6a-f4ad63a7ec64",
   "metadata": {},
   "outputs": [],
   "source": [
    "#weightbk.sort_values('weight_bk', ascending = False)"
   ]
  },
  {
   "cell_type": "code",
   "execution_count": 29,
   "id": "b4aa436f-1ad8-4aed-8535-372ce9a9a903",
   "metadata": {},
   "outputs": [],
   "source": [
    "#weightbk.describe()"
   ]
  },
  {
   "cell_type": "code",
   "execution_count": 30,
   "id": "96584f15-0e24-4559-860e-3e3ee29b8642",
   "metadata": {},
   "outputs": [],
   "source": [
    "#line plot is by average  "
   ]
  },
  {
   "cell_type": "markdown",
   "id": "d6388afa-650a-4ddb-8cd8-400e7931fd0b",
   "metadata": {},
   "source": [
    "To answer number 5: 2015 was a banner year for the gourd, however 2019 fell into a slump. \n",
    "This could be for a number of factors (weather comes to mind)\n",
    "                                                                                                    "
   ]
  },
  {
   "cell_type": "markdown",
   "id": "176306a7-e77c-4b5f-ab07-c9f1f75ec8ec",
   "metadata": {},
   "source": [
    "6a. Read the type_name.csv dataset into a new DataFrame named type_name."
   ]
  },
  {
   "cell_type": "code",
   "execution_count": 33,
   "id": "7a069b53-cde1-44d9-9af9-af54cf10e3fb",
   "metadata": {},
   "outputs": [],
   "source": [
    "type_name = pd.read_csv(\"C:/Users/user/Desktop/Cohort10/Python/Python Final/python-assessment-Tarikwk/type_name.csv\")"
   ]
  },
  {
   "cell_type": "markdown",
   "id": "acfd8753-d039-47db-acab-16dddc88c3a9",
   "metadata": {},
   "source": [
    "6b. Merge this with gourds to add on type_name column."
   ]
  },
  {
   "cell_type": "code",
   "execution_count": 35,
   "id": "3f4903d1-f3b2-40e3-b3f5-5b5bc93dac04",
   "metadata": {},
   "outputs": [
    {
     "data": {
      "text/html": [
       "<div>\n",
       "<style scoped>\n",
       "    .dataframe tbody tr th:only-of-type {\n",
       "        vertical-align: middle;\n",
       "    }\n",
       "\n",
       "    .dataframe tbody tr th {\n",
       "        vertical-align: top;\n",
       "    }\n",
       "\n",
       "    .dataframe thead th {\n",
       "        text-align: right;\n",
       "    }\n",
       "</style>\n",
       "<table border=\"1\" class=\"dataframe\">\n",
       "  <thead>\n",
       "    <tr style=\"text-align: right;\">\n",
       "      <th></th>\n",
       "      <th>type_id</th>\n",
       "      <th>type_name</th>\n",
       "    </tr>\n",
       "  </thead>\n",
       "  <tbody>\n",
       "    <tr>\n",
       "      <th>0</th>\n",
       "      <td>F</td>\n",
       "      <td>Field Pumpkin</td>\n",
       "    </tr>\n",
       "    <tr>\n",
       "      <th>1</th>\n",
       "      <td>P</td>\n",
       "      <td>Giant Pumpkin</td>\n",
       "    </tr>\n",
       "    <tr>\n",
       "      <th>2</th>\n",
       "      <td>S</td>\n",
       "      <td>Giant Squash</td>\n",
       "    </tr>\n",
       "    <tr>\n",
       "      <th>3</th>\n",
       "      <td>W</td>\n",
       "      <td>Giant Watermelon</td>\n",
       "    </tr>\n",
       "    <tr>\n",
       "      <th>4</th>\n",
       "      <td>T</td>\n",
       "      <td>Tomato</td>\n",
       "    </tr>\n",
       "    <tr>\n",
       "      <th>5</th>\n",
       "      <td>L</td>\n",
       "      <td>Long Gourd</td>\n",
       "    </tr>\n",
       "  </tbody>\n",
       "</table>\n",
       "</div>"
      ],
      "text/plain": [
       "  type_id         type_name\n",
       "0       F     Field Pumpkin\n",
       "1       P     Giant Pumpkin\n",
       "2       S      Giant Squash\n",
       "3       W  Giant Watermelon\n",
       "4       T            Tomato\n",
       "5       L        Long Gourd"
      ]
     },
     "execution_count": 35,
     "metadata": {},
     "output_type": "execute_result"
    }
   ],
   "source": [
    "type_name"
   ]
  },
  {
   "cell_type": "code",
   "execution_count": 36,
   "id": "88f7357f-70a9-4480-8cc6-315ea904fa46",
   "metadata": {},
   "outputs": [
    {
     "data": {
      "text/html": [
       "<div>\n",
       "<style scoped>\n",
       "    .dataframe tbody tr th:only-of-type {\n",
       "        vertical-align: middle;\n",
       "    }\n",
       "\n",
       "    .dataframe tbody tr th {\n",
       "        vertical-align: top;\n",
       "    }\n",
       "\n",
       "    .dataframe thead th {\n",
       "        text-align: right;\n",
       "    }\n",
       "</style>\n",
       "<table border=\"1\" class=\"dataframe\">\n",
       "  <thead>\n",
       "    <tr style=\"text-align: right;\">\n",
       "      <th></th>\n",
       "      <th>year</th>\n",
       "      <th>type_id</th>\n",
       "      <th>weight</th>\n",
       "      <th>place</th>\n",
       "      <th>grower_name</th>\n",
       "      <th>city</th>\n",
       "      <th>state_prov</th>\n",
       "      <th>country</th>\n",
       "      <th>gpc_site</th>\n",
       "      <th>seed_mother</th>\n",
       "      <th>pollinator_father</th>\n",
       "      <th>ott</th>\n",
       "      <th>est_weight</th>\n",
       "      <th>variety</th>\n",
       "      <th>weight_bk</th>\n",
       "      <th>type_name</th>\n",
       "    </tr>\n",
       "  </thead>\n",
       "  <tbody>\n",
       "    <tr>\n",
       "      <th>0</th>\n",
       "      <td>2013</td>\n",
       "      <td>F</td>\n",
       "      <td>154.5</td>\n",
       "      <td>1.0</td>\n",
       "      <td>Ellenbecker, Todd &amp; Sequoia</td>\n",
       "      <td>Gleason</td>\n",
       "      <td>Wisconsin</td>\n",
       "      <td>United States</td>\n",
       "      <td>Nekoosa Giant Pumpkin Fest</td>\n",
       "      <td>209 Werner</td>\n",
       "      <td>Self</td>\n",
       "      <td>184.0</td>\n",
       "      <td>129.0</td>\n",
       "      <td>nan</td>\n",
       "      <td>154.5</td>\n",
       "      <td>Field Pumpkin</td>\n",
       "    </tr>\n",
       "  </tbody>\n",
       "</table>\n",
       "</div>"
      ],
      "text/plain": [
       "   year type_id weight  place                  grower_name     city  \\\n",
       "0  2013       F  154.5    1.0  Ellenbecker, Todd & Sequoia  Gleason   \n",
       "\n",
       "  state_prov        country                    gpc_site seed_mother  \\\n",
       "0  Wisconsin  United States  Nekoosa Giant Pumpkin Fest  209 Werner   \n",
       "\n",
       "  pollinator_father    ott  est_weight variety  weight_bk      type_name  \n",
       "0              Self  184.0       129.0     nan      154.5  Field Pumpkin  "
      ]
     },
     "execution_count": 36,
     "metadata": {},
     "output_type": "execute_result"
    }
   ],
   "source": [
    "gourds = gourds.merge(type_name, on='type_id', how ='left')\n",
    "gourds.head(1)"
   ]
  },
  {
   "cell_type": "markdown",
   "id": "25029dee-433f-4eba-b510-c793927e4084",
   "metadata": {},
   "source": [
    "6c. Which type of gourd is heaviest on average?"
   ]
  },
  {
   "cell_type": "code",
   "execution_count": 38,
   "id": "a1620a3b-75bf-471b-9fb7-f386d29b6b49",
   "metadata": {},
   "outputs": [
    {
     "data": {
      "text/plain": [
       "type_name\n",
       "Field Pumpkin        79.456309\n",
       "Giant Pumpkin       776.033885\n",
       "Giant Squash        527.298348\n",
       "Giant Watermelon    127.149110\n",
       "Long Gourd           94.567945\n",
       "Tomato                3.176921\n",
       "Name: weight_bk, dtype: float64"
      ]
     },
     "execution_count": 38,
     "metadata": {},
     "output_type": "execute_result"
    }
   ],
   "source": [
    "heavest_gourd = gourds.groupby('type_name')['weight_bk'].mean()\n",
    "heavest_gourd\n",
    "#Giant Pumpkin "
   ]
  },
  {
   "cell_type": "markdown",
   "id": "7185584b-db05-4a2c-af32-81b12dfbfd0b",
   "metadata": {},
   "source": [
    "6d. Create a visualization showing the distribution of gourd weights by type."
   ]
  },
  {
   "cell_type": "code",
   "execution_count": 40,
   "id": "9e39cc31-e03e-45b9-ac52-de3226ceb8bf",
   "metadata": {},
   "outputs": [
    {
     "data": {
      "text/plain": [
       "<Axes: xlabel='type_name', ylabel='weight_bk'>"
      ]
     },
     "execution_count": 40,
     "metadata": {},
     "output_type": "execute_result"
    },
    {
     "data": {
      "image/png": "[encoded data removed]",
      "text/plain": [
       "<Figure size 640x480 with 1 Axes>"
      ]
     },
     "metadata": {},
     "output_type": "display_data"
    }
   ],
   "source": [
    "sns.boxplot(x='type_name', y='weight_bk', data = gourds)"
   ]
  },
  {
   "cell_type": "markdown",
   "id": "3cd77d78-5f6a-41ae-8887-f4a6712247b6",
   "metadata": {},
   "source": [
    "7a. Create a new column weight_error that contains the amount by which the estimated weight exceeded the actual weight. "
   ]
  },
  {
   "cell_type": "code",
   "execution_count": 42,
   "id": "923eb31c-513a-4d9b-9a9b-ab059c774068",
   "metadata": {},
   "outputs": [
    {
     "name": "stdout",
     "output_type": "stream",
     "text": [
      "<class 'pandas.core.frame.DataFrame'>\n",
      "RangeIndex: 28011 entries, 0 to 28010\n",
      "Data columns (total 16 columns):\n",
      " #   Column             Non-Null Count  Dtype  \n",
      "---  ------             --------------  -----  \n",
      " 0   year               28011 non-null  int64  \n",
      " 1   type_id            28011 non-null  object \n",
      " 2   weight             28011 non-null  object \n",
      " 3   place              28011 non-null  float64\n",
      " 4   grower_name        28011 non-null  object \n",
      " 5   city               28011 non-null  object \n",
      " 6   state_prov         28011 non-null  object \n",
      " 7   country            28011 non-null  object \n",
      " 8   gpc_site           28011 non-null  object \n",
      " 9   seed_mother        28011 non-null  object \n",
      " 10  pollinator_father  28011 non-null  object \n",
      " 11  ott                24854 non-null  float64\n",
      " 12  est_weight         24854 non-null  float64\n",
      " 13  variety            28011 non-null  object \n",
      " 14  weight_bk          28011 non-null  float64\n",
      " 15  type_name          28011 non-null  object \n",
      "dtypes: float64(4), int64(1), object(11)\n",
      "memory usage: 3.4+ MB\n"
     ]
    }
   ],
   "source": [
    "gourds.info()"
   ]
  },
  {
   "cell_type": "code",
   "execution_count": 43,
   "id": "82cb1395-4c3b-44be-9ca1-90fad085353f",
   "metadata": {},
   "outputs": [],
   "source": [
    "gourds['weight'] = pd.to_numeric(gourds['weight'], errors='coerce')\n",
    "gourds['est_weight'] = pd.to_numeric(gourds['est_weight'], errors='coerce')"
   ]
  },
  {
   "cell_type": "code",
   "execution_count": 44,
   "id": "83939dc8-77d6-4aba-b904-ebd2b218ea97",
   "metadata": {},
   "outputs": [],
   "source": [
    "gourds['weight_error'] = gourds['weight'] - gourds['est_weight']"
   ]
  },
  {
   "cell_type": "code",
   "execution_count": 45,
   "id": "c0c3a057-5302-4fac-bc92-b90dc19eefb9",
   "metadata": {},
   "outputs": [
    {
     "data": {
      "text/html": [
       "<div>\n",
       "<style scoped>\n",
       "    .dataframe tbody tr th:only-of-type {\n",
       "        vertical-align: middle;\n",
       "    }\n",
       "\n",
       "    .dataframe tbody tr th {\n",
       "        vertical-align: top;\n",
       "    }\n",
       "\n",
       "    .dataframe thead th {\n",
       "        text-align: right;\n",
       "    }\n",
       "</style>\n",
       "<table border=\"1\" class=\"dataframe\">\n",
       "  <thead>\n",
       "    <tr style=\"text-align: right;\">\n",
       "      <th></th>\n",
       "      <th>year</th>\n",
       "      <th>type_id</th>\n",
       "      <th>weight</th>\n",
       "      <th>place</th>\n",
       "      <th>grower_name</th>\n",
       "      <th>city</th>\n",
       "      <th>state_prov</th>\n",
       "      <th>country</th>\n",
       "      <th>gpc_site</th>\n",
       "      <th>seed_mother</th>\n",
       "      <th>pollinator_father</th>\n",
       "      <th>ott</th>\n",
       "      <th>est_weight</th>\n",
       "      <th>variety</th>\n",
       "      <th>weight_bk</th>\n",
       "      <th>type_name</th>\n",
       "      <th>weight_error</th>\n",
       "    </tr>\n",
       "  </thead>\n",
       "  <tbody>\n",
       "    <tr>\n",
       "      <th>0</th>\n",
       "      <td>2013</td>\n",
       "      <td>F</td>\n",
       "      <td>154.5</td>\n",
       "      <td>1.0</td>\n",
       "      <td>Ellenbecker, Todd &amp; Sequoia</td>\n",
       "      <td>Gleason</td>\n",
       "      <td>Wisconsin</td>\n",
       "      <td>United States</td>\n",
       "      <td>Nekoosa Giant Pumpkin Fest</td>\n",
       "      <td>209 Werner</td>\n",
       "      <td>Self</td>\n",
       "      <td>184.0</td>\n",
       "      <td>129.0</td>\n",
       "      <td>nan</td>\n",
       "      <td>154.5</td>\n",
       "      <td>Field Pumpkin</td>\n",
       "      <td>25.5</td>\n",
       "    </tr>\n",
       "  </tbody>\n",
       "</table>\n",
       "</div>"
      ],
      "text/plain": [
       "   year type_id  weight  place                  grower_name     city  \\\n",
       "0  2013       F   154.5    1.0  Ellenbecker, Todd & Sequoia  Gleason   \n",
       "\n",
       "  state_prov        country                    gpc_site seed_mother  \\\n",
       "0  Wisconsin  United States  Nekoosa Giant Pumpkin Fest  209 Werner   \n",
       "\n",
       "  pollinator_father    ott  est_weight variety  weight_bk      type_name  \\\n",
       "0              Self  184.0       129.0     nan      154.5  Field Pumpkin   \n",
       "\n",
       "   weight_error  \n",
       "0          25.5  "
      ]
     },
     "execution_count": 45,
     "metadata": {},
     "output_type": "execute_result"
    }
   ],
   "source": [
    "gourds.head(1)"
   ]
  },
  {
   "cell_type": "markdown",
   "id": "529558b8-2616-4cce-a2fd-a52e45183a3f",
   "metadata": {},
   "source": [
    "7b. What is the worst overestimate of a gourd weight?"
   ]
  },
  {
   "cell_type": "code",
   "execution_count": 47,
   "id": "0ec80bf7-b679-414a-9786-10fda9a0d749",
   "metadata": {},
   "outputs": [
    {
     "data": {
      "text/html": [
       "<div>\n",
       "<style scoped>\n",
       "    .dataframe tbody tr th:only-of-type {\n",
       "        vertical-align: middle;\n",
       "    }\n",
       "\n",
       "    .dataframe tbody tr th {\n",
       "        vertical-align: top;\n",
       "    }\n",
       "\n",
       "    .dataframe thead th {\n",
       "        text-align: right;\n",
       "    }\n",
       "</style>\n",
       "<table border=\"1\" class=\"dataframe\">\n",
       "  <thead>\n",
       "    <tr style=\"text-align: right;\">\n",
       "      <th></th>\n",
       "      <th>year</th>\n",
       "      <th>type_id</th>\n",
       "      <th>weight</th>\n",
       "      <th>place</th>\n",
       "      <th>grower_name</th>\n",
       "      <th>city</th>\n",
       "      <th>state_prov</th>\n",
       "      <th>country</th>\n",
       "      <th>gpc_site</th>\n",
       "      <th>seed_mother</th>\n",
       "      <th>pollinator_father</th>\n",
       "      <th>ott</th>\n",
       "      <th>est_weight</th>\n",
       "      <th>variety</th>\n",
       "      <th>weight_bk</th>\n",
       "      <th>type_name</th>\n",
       "      <th>weight_error</th>\n",
       "    </tr>\n",
       "  </thead>\n",
       "  <tbody>\n",
       "    <tr>\n",
       "      <th>19588</th>\n",
       "      <td>2019</td>\n",
       "      <td>P</td>\n",
       "      <td>2158.0</td>\n",
       "      <td>11.0</td>\n",
       "      <td>Geddes, Steve</td>\n",
       "      <td>Boscawen</td>\n",
       "      <td>New Hampshire</td>\n",
       "      <td>United States</td>\n",
       "      <td>Deerfield Fair</td>\n",
       "      <td>1852 Vander Wielen</td>\n",
       "      <td>2004 Vander Wielen</td>\n",
       "      <td>0.0</td>\n",
       "      <td>0.0</td>\n",
       "      <td>nan</td>\n",
       "      <td>2158.0</td>\n",
       "      <td>Giant Pumpkin</td>\n",
       "      <td>2158.0</td>\n",
       "    </tr>\n",
       "  </tbody>\n",
       "</table>\n",
       "</div>"
      ],
      "text/plain": [
       "       year type_id  weight  place    grower_name      city     state_prov  \\\n",
       "19588  2019       P  2158.0   11.0  Geddes, Steve  Boscawen  New Hampshire   \n",
       "\n",
       "             country        gpc_site         seed_mother   pollinator_father  \\\n",
       "19588  United States  Deerfield Fair  1852 Vander Wielen  2004 Vander Wielen   \n",
       "\n",
       "       ott  est_weight variety  weight_bk      type_name  weight_error  \n",
       "19588  0.0         0.0     nan     2158.0  Giant Pumpkin        2158.0  "
      ]
     },
     "execution_count": 47,
     "metadata": {},
     "output_type": "execute_result"
    }
   ],
   "source": [
    "gourds.sort_values('weight_error', ascending = False).head(1)"
   ]
  },
  {
   "cell_type": "code",
   "execution_count": 48,
   "id": "ae427dbc-3f2b-4ce4-b59e-a3d4bafbddbd",
   "metadata": {},
   "outputs": [
    {
     "data": {
      "text/html": [
       "<div>\n",
       "<style scoped>\n",
       "    .dataframe tbody tr th:only-of-type {\n",
       "        vertical-align: middle;\n",
       "    }\n",
       "\n",
       "    .dataframe tbody tr th {\n",
       "        vertical-align: top;\n",
       "    }\n",
       "\n",
       "    .dataframe thead th {\n",
       "        text-align: right;\n",
       "    }\n",
       "</style>\n",
       "<table border=\"1\" class=\"dataframe\">\n",
       "  <thead>\n",
       "    <tr style=\"text-align: right;\">\n",
       "      <th></th>\n",
       "      <th>year</th>\n",
       "      <th>type_id</th>\n",
       "      <th>weight</th>\n",
       "      <th>place</th>\n",
       "      <th>grower_name</th>\n",
       "      <th>city</th>\n",
       "      <th>state_prov</th>\n",
       "      <th>country</th>\n",
       "      <th>gpc_site</th>\n",
       "      <th>seed_mother</th>\n",
       "      <th>pollinator_father</th>\n",
       "      <th>ott</th>\n",
       "      <th>est_weight</th>\n",
       "      <th>variety</th>\n",
       "      <th>weight_bk</th>\n",
       "      <th>type_name</th>\n",
       "      <th>weight_error</th>\n",
       "    </tr>\n",
       "  </thead>\n",
       "  <tbody>\n",
       "    <tr>\n",
       "      <th>3629</th>\n",
       "      <td>2014</td>\n",
       "      <td>P</td>\n",
       "      <td>1339.4</td>\n",
       "      <td>236.0</td>\n",
       "      <td>Sundin, Eric</td>\n",
       "      <td>Stoney Creek</td>\n",
       "      <td>Ontario</td>\n",
       "      <td>Canada</td>\n",
       "      <td>Port Elgin Pumpkinfest</td>\n",
       "      <td>702 Sundin</td>\n",
       "      <td>1442 Metesa</td>\n",
       "      <td>194.0</td>\n",
       "      <td>170.0</td>\n",
       "      <td>nan</td>\n",
       "      <td>1339.4</td>\n",
       "      <td>Giant Pumpkin</td>\n",
       "      <td>1169.4</td>\n",
       "    </tr>\n",
       "  </tbody>\n",
       "</table>\n",
       "</div>"
      ],
      "text/plain": [
       "      year type_id  weight  place   grower_name          city state_prov  \\\n",
       "3629  2014       P  1339.4  236.0  Sundin, Eric  Stoney Creek    Ontario   \n",
       "\n",
       "     country                gpc_site seed_mother pollinator_father    ott  \\\n",
       "3629  Canada  Port Elgin Pumpkinfest  702 Sundin       1442 Metesa  194.0   \n",
       "\n",
       "      est_weight variety  weight_bk      type_name  weight_error  \n",
       "3629       170.0     nan     1339.4  Giant Pumpkin        1169.4  "
      ]
     },
     "execution_count": 48,
     "metadata": {},
     "output_type": "execute_result"
    }
   ],
   "source": [
    "worst_over = gourds[(gourds['weight'] != 0.0) & (gourds['est_weight'] != 0.0)]\n",
    "worst_over.sort_values('weight_error', ascending = False).head(1)\n",
    "#ANSWER: 1169.4"
   ]
  },
  {
   "cell_type": "code",
   "execution_count": 49,
   "id": "3900c61f-73ce-432e-b17c-52d8837bdf04",
   "metadata": {},
   "outputs": [],
   "source": [
    "#worst over estimate is 1169.4\n",
    "#worst over was caluclated by removing 0.0 from both weight and estimated weight  "
   ]
  },
  {
   "cell_type": "markdown",
   "id": "245fa410-3903-4030-a918-b3420184cd4f",
   "metadata": {},
   "source": [
    "7c. What percentage of gourd weights are overestimated?"
   ]
  },
  {
   "cell_type": "code",
   "execution_count": 51,
   "id": "3d79fcb4-e81b-483b-89aa-2681e3db7290",
   "metadata": {},
   "outputs": [
    {
     "name": "stderr",
     "output_type": "stream",
     "text": [
      "C:\\Users\\user\\AppData\\Local\\Temp\\ipykernel_4664\\343981795.py:1: SettingWithCopyWarning: \n",
      "A value is trying to be set on a copy of a slice from a DataFrame.\n",
      "Try using .loc[row_indexer,col_indexer] = value instead\n",
      "\n",
      "See the caveats in the documentation: https://pandas.pydata.org/pandas-docs/stable/user_guide/indexing.html#returning-a-view-versus-a-copy\n",
      "  worst_over['weight_error'] = pd.to_numeric(worst_over['weight_error'], errors='coerce')\n"
     ]
    }
   ],
   "source": [
    "worst_over['weight_error'] = pd.to_numeric(worst_over['weight_error'], errors='coerce')"
   ]
  },
  {
   "cell_type": "code",
   "execution_count": 52,
   "id": "873ed6aa-f488-4f3e-aeeb-79fed367763a",
   "metadata": {},
   "outputs": [
    {
     "data": {
      "text/plain": [
       "8495"
      ]
     },
     "execution_count": 52,
     "metadata": {},
     "output_type": "execute_result"
    }
   ],
   "source": [
    "total_over = (worst_over['weight_error'] > 0).sum()\n",
    "total_over"
   ]
  },
  {
   "cell_type": "code",
   "execution_count": 53,
   "id": "57ba109a-2f25-49cc-b806-7c429f9101d4",
   "metadata": {},
   "outputs": [
    {
     "data": {
      "text/plain": [
       "20216"
      ]
     },
     "execution_count": 53,
     "metadata": {},
     "output_type": "execute_result"
    }
   ],
   "source": [
    "count_of_worst_over = len(worst_over)\n",
    "count_of_worst_over"
   ]
  },
  {
   "cell_type": "code",
   "execution_count": 54,
   "id": "f94ba296-4d96-44b5-8c21-d7cae7cf6485",
   "metadata": {},
   "outputs": [
    {
     "data": {
      "text/plain": [
       "42.0211713494262"
      ]
     },
     "execution_count": 54,
     "metadata": {},
     "output_type": "execute_result"
    }
   ],
   "source": [
    "percent_overestimated = (total_over / count_of_worst_over) * 100\n",
    "percent_overestimated"
   ]
  },
  {
   "cell_type": "markdown",
   "id": "d8d196c0-59e1-48fe-b62b-c0e0c00ced06",
   "metadata": {},
   "source": [
    "8. Create a visualization to compare the estimated weight (est_weight) to the actual weight (weight_lbs).  Note that both of these columns are numeric, so choose a type of visualization most appropriate for these data types. What do you notice from your visualization?"
   ]
  },
  {
   "cell_type": "code",
   "execution_count": 56,
   "id": "a0e94e82-5e55-4f4c-835e-a0a9f937f348",
   "metadata": {},
   "outputs": [],
   "source": [
    "gourds = gourds[(gourds['weight_bk'] != 0.0) & (gourds['est_weight'] != 0.0)]\n",
    "#removed the 0 values from weight and estimated weight "
   ]
  },
  {
   "cell_type": "code",
   "execution_count": 57,
   "id": "49410a07-e896-40f4-9d14-fe33d4c85f94",
   "metadata": {},
   "outputs": [],
   "source": [
    "gourds = gourds[(gourds['weight_bk'] <= 3000.0) & (gourds['est_weight'] <= 3000.0)]\n",
    "#after I tried to make my visualization i realized there were values for 10000...so i filtered out anything greater than 3000"
   ]
  },
  {
   "cell_type": "code",
   "execution_count": 58,
   "id": "a741d07b-7a34-46f2-a5ff-52488c527a92",
   "metadata": {},
   "outputs": [
    {
     "data": {
      "text/plain": [
       "<Axes: xlabel='est_weight', ylabel='weight_bk'>"
      ]
     },
     "execution_count": 58,
     "metadata": {},
     "output_type": "execute_result"
    },
    {
     "data": {
      "image/png": "[encoded data removed]",
      "text/plain": [
       "<Figure size 640x480 with 1 Axes>"
      ]
     },
     "metadata": {},
     "output_type": "display_data"
    }
   ],
   "source": [
    "sns.set_theme(style=\"darkgrid\")\n",
    "sns.scatterplot(x=\"est_weight\", y=\"weight_bk\", data=gourds)\n",
    "#looks like they are accurate within reason, however there are several outlyers "
   ]
  },
  {
   "cell_type": "markdown",
   "id": "1fb0a062-7a24-4464-aedc-d95f4d938957",
   "metadata": {},
   "source": [
    "9a. Which grower has top 10 finishes across the largest number of types of gourds?"
   ]
  },
  {
   "cell_type": "code",
   "execution_count": 60,
   "id": "9a8fc1a7-5cb7-4928-b199-96963b9e8b86",
   "metadata": {},
   "outputs": [],
   "source": [
    "top_grower = gourds.place.value_counts().to_frame().reset_index()['place'] "
   ]
  },
  {
   "cell_type": "code",
   "execution_count": 61,
   "id": "44438805-1834-42ae-b123-7d90b70bd400",
   "metadata": {},
   "outputs": [
    {
     "data": {
      "text/plain": [
       "0         1.0\n",
       "1         2.0\n",
       "2         6.0\n",
       "3         7.0\n",
       "4        12.0\n",
       "        ...  \n",
       "3203    663.5\n",
       "3204    661.5\n",
       "3205    546.5\n",
       "3206    495.5\n",
       "3207    156.5\n",
       "Name: place, Length: 3208, dtype: float64"
      ]
     },
     "execution_count": 61,
     "metadata": {},
     "output_type": "execute_result"
    }
   ],
   "source": [
    "top_grower"
   ]
  },
  {
   "cell_type": "code",
   "execution_count": 62,
   "id": "e865e983-579e-43de-9fca-f2983dafff66",
   "metadata": {},
   "outputs": [
    {
     "name": "stdout",
     "output_type": "stream",
     "text": [
      "<class 'pandas.core.frame.DataFrame'>\n",
      "Index: 17057 entries, 0 to 28009\n",
      "Data columns (total 17 columns):\n",
      " #   Column             Non-Null Count  Dtype  \n",
      "---  ------             --------------  -----  \n",
      " 0   year               17057 non-null  int64  \n",
      " 1   type_id            17057 non-null  object \n",
      " 2   weight             17057 non-null  float64\n",
      " 3   place              17057 non-null  float64\n",
      " 4   grower_name        17057 non-null  object \n",
      " 5   city               17057 non-null  object \n",
      " 6   state_prov         17057 non-null  object \n",
      " 7   country            17057 non-null  object \n",
      " 8   gpc_site           17057 non-null  object \n",
      " 9   seed_mother        17057 non-null  object \n",
      " 10  pollinator_father  17057 non-null  object \n",
      " 11  ott                17057 non-null  float64\n",
      " 12  est_weight         17057 non-null  float64\n",
      " 13  variety            17057 non-null  object \n",
      " 14  weight_bk          17057 non-null  float64\n",
      " 15  type_name          17057 non-null  object \n",
      " 16  weight_error       17057 non-null  float64\n",
      "dtypes: float64(6), int64(1), object(10)\n",
      "memory usage: 2.3+ MB\n"
     ]
    }
   ],
   "source": [
    "gourds.info()"
   ]
  },
  {
   "cell_type": "code",
   "execution_count": 63,
   "id": "89f9a659-79fd-4683-b4fe-8da827ce5aff",
   "metadata": {},
   "outputs": [
    {
     "data": {
      "text/html": [
       "<div>\n",
       "<style scoped>\n",
       "    .dataframe tbody tr th:only-of-type {\n",
       "        vertical-align: middle;\n",
       "    }\n",
       "\n",
       "    .dataframe tbody tr th {\n",
       "        vertical-align: top;\n",
       "    }\n",
       "\n",
       "    .dataframe thead th {\n",
       "        text-align: right;\n",
       "    }\n",
       "</style>\n",
       "<table border=\"1\" class=\"dataframe\">\n",
       "  <thead>\n",
       "    <tr style=\"text-align: right;\">\n",
       "      <th></th>\n",
       "      <th>year</th>\n",
       "      <th>type_id</th>\n",
       "      <th>weight</th>\n",
       "      <th>place</th>\n",
       "      <th>grower_name</th>\n",
       "      <th>city</th>\n",
       "      <th>state_prov</th>\n",
       "      <th>country</th>\n",
       "      <th>gpc_site</th>\n",
       "      <th>seed_mother</th>\n",
       "      <th>pollinator_father</th>\n",
       "      <th>ott</th>\n",
       "      <th>est_weight</th>\n",
       "      <th>variety</th>\n",
       "      <th>weight_bk</th>\n",
       "      <th>type_name</th>\n",
       "      <th>weight_error</th>\n",
       "    </tr>\n",
       "  </thead>\n",
       "  <tbody>\n",
       "    <tr>\n",
       "      <th>0</th>\n",
       "      <td>2013</td>\n",
       "      <td>F</td>\n",
       "      <td>154.5</td>\n",
       "      <td>1.0</td>\n",
       "      <td>Ellenbecker, Todd &amp; Sequoia</td>\n",
       "      <td>Gleason</td>\n",
       "      <td>Wisconsin</td>\n",
       "      <td>United States</td>\n",
       "      <td>Nekoosa Giant Pumpkin Fest</td>\n",
       "      <td>209 Werner</td>\n",
       "      <td>Self</td>\n",
       "      <td>184.0</td>\n",
       "      <td>129.0</td>\n",
       "      <td>nan</td>\n",
       "      <td>154.5</td>\n",
       "      <td>Field Pumpkin</td>\n",
       "      <td>25.5</td>\n",
       "    </tr>\n",
       "    <tr>\n",
       "      <th>1</th>\n",
       "      <td>2013</td>\n",
       "      <td>F</td>\n",
       "      <td>146.5</td>\n",
       "      <td>2.0</td>\n",
       "      <td>Razo, Steve</td>\n",
       "      <td>New Middletown</td>\n",
       "      <td>Ohio</td>\n",
       "      <td>United States</td>\n",
       "      <td>Ohio Valley Giant Pumpkin Growers Weigh-off</td>\n",
       "      <td>150.5 Snyder</td>\n",
       "      <td>nan</td>\n",
       "      <td>194.0</td>\n",
       "      <td>151.0</td>\n",
       "      <td>nan</td>\n",
       "      <td>146.5</td>\n",
       "      <td>Field Pumpkin</td>\n",
       "      <td>-4.5</td>\n",
       "    </tr>\n",
       "    <tr>\n",
       "      <th>2</th>\n",
       "      <td>2013</td>\n",
       "      <td>F</td>\n",
       "      <td>145.0</td>\n",
       "      <td>3.0</td>\n",
       "      <td>Ellenbecker, Todd &amp; Sequoia</td>\n",
       "      <td>Glenson</td>\n",
       "      <td>Wisconsin</td>\n",
       "      <td>United States</td>\n",
       "      <td>Mishicot Pumpkin Fest</td>\n",
       "      <td>209 Werner</td>\n",
       "      <td>103 Mackinnon</td>\n",
       "      <td>177.0</td>\n",
       "      <td>115.0</td>\n",
       "      <td>nan</td>\n",
       "      <td>145.0</td>\n",
       "      <td>Field Pumpkin</td>\n",
       "      <td>30.0</td>\n",
       "    </tr>\n",
       "    <tr>\n",
       "      <th>3</th>\n",
       "      <td>2013</td>\n",
       "      <td>F</td>\n",
       "      <td>140.8</td>\n",
       "      <td>4.0</td>\n",
       "      <td>Martin, Margaret &amp; Glen</td>\n",
       "      <td>Combined Locks</td>\n",
       "      <td>Wisconsin</td>\n",
       "      <td>United States</td>\n",
       "      <td>Cedarburg Wine and Harvest Festival</td>\n",
       "      <td>109 Martin '12</td>\n",
       "      <td>209 Werner '12</td>\n",
       "      <td>194.0</td>\n",
       "      <td>151.0</td>\n",
       "      <td>nan</td>\n",
       "      <td>140.8</td>\n",
       "      <td>Field Pumpkin</td>\n",
       "      <td>-10.2</td>\n",
       "    </tr>\n",
       "    <tr>\n",
       "      <th>5</th>\n",
       "      <td>2013</td>\n",
       "      <td>F</td>\n",
       "      <td>139.0</td>\n",
       "      <td>5.5</td>\n",
       "      <td>Werner, Quinn</td>\n",
       "      <td>Saegartown</td>\n",
       "      <td>Pennsylvania</td>\n",
       "      <td>United States</td>\n",
       "      <td>Ohio Valley Giant Pumpkin Growers Weigh-off</td>\n",
       "      <td>209 Werner</td>\n",
       "      <td>nan</td>\n",
       "      <td>190.0</td>\n",
       "      <td>141.0</td>\n",
       "      <td>nan</td>\n",
       "      <td>139.0</td>\n",
       "      <td>Field Pumpkin</td>\n",
       "      <td>-2.0</td>\n",
       "    </tr>\n",
       "  </tbody>\n",
       "</table>\n",
       "</div>"
      ],
      "text/plain": [
       "   year type_id  weight  place                  grower_name            city  \\\n",
       "0  2013       F   154.5    1.0  Ellenbecker, Todd & Sequoia         Gleason   \n",
       "1  2013       F   146.5    2.0                  Razo, Steve  New Middletown   \n",
       "2  2013       F   145.0    3.0  Ellenbecker, Todd & Sequoia         Glenson   \n",
       "3  2013       F   140.8    4.0      Martin, Margaret & Glen  Combined Locks   \n",
       "5  2013       F   139.0    5.5                Werner, Quinn      Saegartown   \n",
       "\n",
       "     state_prov        country                                     gpc_site  \\\n",
       "0     Wisconsin  United States                   Nekoosa Giant Pumpkin Fest   \n",
       "1          Ohio  United States  Ohio Valley Giant Pumpkin Growers Weigh-off   \n",
       "2     Wisconsin  United States                        Mishicot Pumpkin Fest   \n",
       "3     Wisconsin  United States          Cedarburg Wine and Harvest Festival   \n",
       "5  Pennsylvania  United States  Ohio Valley Giant Pumpkin Growers Weigh-off   \n",
       "\n",
       "      seed_mother pollinator_father    ott  est_weight variety  weight_bk  \\\n",
       "0      209 Werner              Self  184.0       129.0     nan      154.5   \n",
       "1    150.5 Snyder               nan  194.0       151.0     nan      146.5   \n",
       "2      209 Werner     103 Mackinnon  177.0       115.0     nan      145.0   \n",
       "3  109 Martin '12    209 Werner '12  194.0       151.0     nan      140.8   \n",
       "5      209 Werner               nan  190.0       141.0     nan      139.0   \n",
       "\n",
       "       type_name  weight_error  \n",
       "0  Field Pumpkin          25.5  \n",
       "1  Field Pumpkin          -4.5  \n",
       "2  Field Pumpkin          30.0  \n",
       "3  Field Pumpkin         -10.2  \n",
       "5  Field Pumpkin          -2.0  "
      ]
     },
     "execution_count": 63,
     "metadata": {},
     "output_type": "execute_result"
    }
   ],
   "source": [
    "top_growers = gourds[gourds['place'].between(1, 10, inclusive=\"both\")]\n",
    "top_growers.head(5)"
   ]
  },
  {
   "cell_type": "code",
   "execution_count": 64,
   "id": "80de772b-8150-4f80-ada1-1b8afaeeee3a",
   "metadata": {},
   "outputs": [],
   "source": [
    "top_grower = top_growers.groupby(\"grower_name\")[\"type_name\"].nunique().reset_index()"
   ]
  },
  {
   "cell_type": "code",
   "execution_count": 65,
   "id": "ed620d2c-ef61-487c-b783-f54e31914307",
   "metadata": {},
   "outputs": [
    {
     "data": {
      "text/html": [
       "<div>\n",
       "<style scoped>\n",
       "    .dataframe tbody tr th:only-of-type {\n",
       "        vertical-align: middle;\n",
       "    }\n",
       "\n",
       "    .dataframe tbody tr th {\n",
       "        vertical-align: top;\n",
       "    }\n",
       "\n",
       "    .dataframe thead th {\n",
       "        text-align: right;\n",
       "    }\n",
       "</style>\n",
       "<table border=\"1\" class=\"dataframe\">\n",
       "  <thead>\n",
       "    <tr style=\"text-align: right;\">\n",
       "      <th></th>\n",
       "      <th>grower_name</th>\n",
       "      <th>type_name</th>\n",
       "    </tr>\n",
       "  </thead>\n",
       "  <tbody>\n",
       "    <tr>\n",
       "      <th>78</th>\n",
       "      <td>Martin, Margaret &amp; Glen</td>\n",
       "      <td>2</td>\n",
       "    </tr>\n",
       "  </tbody>\n",
       "</table>\n",
       "</div>"
      ],
      "text/plain": [
       "                grower_name  type_name\n",
       "78  Martin, Margaret & Glen          2"
      ]
     },
     "execution_count": 65,
     "metadata": {},
     "output_type": "execute_result"
    }
   ],
   "source": [
    "top_grower.sort_values('type_name', ascending = False).head(1)"
   ]
  },
  {
   "cell_type": "markdown",
   "id": "892a85a6-db9d-4a0a-8a8f-c026f58bec38",
   "metadata": {},
   "source": [
    "9b. What is this grower's best finish that shows up in the dataset?"
   ]
  },
  {
   "cell_type": "code",
   "execution_count": 67,
   "id": "eb1e086b-a659-47f9-9417-0a52d1bb6e6c",
   "metadata": {},
   "outputs": [
    {
     "data": {
      "text/html": [
       "<div>\n",
       "<style scoped>\n",
       "    .dataframe tbody tr th:only-of-type {\n",
       "        vertical-align: middle;\n",
       "    }\n",
       "\n",
       "    .dataframe tbody tr th {\n",
       "        vertical-align: top;\n",
       "    }\n",
       "\n",
       "    .dataframe thead th {\n",
       "        text-align: right;\n",
       "    }\n",
       "</style>\n",
       "<table border=\"1\" class=\"dataframe\">\n",
       "  <thead>\n",
       "    <tr style=\"text-align: right;\">\n",
       "      <th></th>\n",
       "      <th>year</th>\n",
       "      <th>type_id</th>\n",
       "      <th>weight</th>\n",
       "      <th>place</th>\n",
       "      <th>grower_name</th>\n",
       "      <th>city</th>\n",
       "      <th>state_prov</th>\n",
       "      <th>country</th>\n",
       "      <th>gpc_site</th>\n",
       "      <th>seed_mother</th>\n",
       "      <th>pollinator_father</th>\n",
       "      <th>ott</th>\n",
       "      <th>est_weight</th>\n",
       "      <th>variety</th>\n",
       "      <th>weight_bk</th>\n",
       "      <th>type_name</th>\n",
       "      <th>weight_error</th>\n",
       "    </tr>\n",
       "  </thead>\n",
       "  <tbody>\n",
       "    <tr>\n",
       "      <th>3</th>\n",
       "      <td>2013</td>\n",
       "      <td>F</td>\n",
       "      <td>140.8</td>\n",
       "      <td>4.0</td>\n",
       "      <td>Martin, Margaret &amp; Glen</td>\n",
       "      <td>Combined Locks</td>\n",
       "      <td>Wisconsin</td>\n",
       "      <td>United States</td>\n",
       "      <td>Cedarburg Wine and Harvest Festival</td>\n",
       "      <td>109 Martin '12</td>\n",
       "      <td>209 Werner '12</td>\n",
       "      <td>194.0</td>\n",
       "      <td>151.0</td>\n",
       "      <td>nan</td>\n",
       "      <td>140.8</td>\n",
       "      <td>Field Pumpkin</td>\n",
       "      <td>-10.2</td>\n",
       "    </tr>\n",
       "    <tr>\n",
       "      <th>19</th>\n",
       "      <td>2013</td>\n",
       "      <td>F</td>\n",
       "      <td>128.0</td>\n",
       "      <td>19.5</td>\n",
       "      <td>Martin, Margaret &amp; Glen</td>\n",
       "      <td>Combined Locks</td>\n",
       "      <td>Wisconsin</td>\n",
       "      <td>United States</td>\n",
       "      <td>Mishicot Pumpkin Fest</td>\n",
       "      <td>109 Martin</td>\n",
       "      <td>open</td>\n",
       "      <td>194.0</td>\n",
       "      <td>151.0</td>\n",
       "      <td>nan</td>\n",
       "      <td>128.0</td>\n",
       "      <td>Field Pumpkin</td>\n",
       "      <td>-23.0</td>\n",
       "    </tr>\n",
       "    <tr>\n",
       "      <th>607</th>\n",
       "      <td>2013</td>\n",
       "      <td>P</td>\n",
       "      <td>1338.0</td>\n",
       "      <td>116.0</td>\n",
       "      <td>Martin, Margaret &amp; Glen</td>\n",
       "      <td>Combined Locks</td>\n",
       "      <td>Wisconsin</td>\n",
       "      <td>United States</td>\n",
       "      <td>Mishicot Pumpkin Fest</td>\n",
       "      <td>1872 Wallace</td>\n",
       "      <td>220.3 DeBacco</td>\n",
       "      <td>390.0</td>\n",
       "      <td>1270.0</td>\n",
       "      <td>nan</td>\n",
       "      <td>1338.0</td>\n",
       "      <td>Giant Pumpkin</td>\n",
       "      <td>68.0</td>\n",
       "    </tr>\n",
       "    <tr>\n",
       "      <th>973</th>\n",
       "      <td>2013</td>\n",
       "      <td>P</td>\n",
       "      <td>888.4</td>\n",
       "      <td>497.0</td>\n",
       "      <td>Martin, Margaret &amp; Glen</td>\n",
       "      <td>Combined Locks</td>\n",
       "      <td>Wisconsin</td>\n",
       "      <td>United States</td>\n",
       "      <td>Cedarburg Wine and Harvest Festival</td>\n",
       "      <td>1,250 Martin '12</td>\n",
       "      <td>220.3 De Bacco</td>\n",
       "      <td>357.0</td>\n",
       "      <td>1002.0</td>\n",
       "      <td>nan</td>\n",
       "      <td>888.4</td>\n",
       "      <td>Giant Pumpkin</td>\n",
       "      <td>-113.6</td>\n",
       "    </tr>\n",
       "    <tr>\n",
       "      <th>1188</th>\n",
       "      <td>2013</td>\n",
       "      <td>P</td>\n",
       "      <td>706.0</td>\n",
       "      <td>716.0</td>\n",
       "      <td>Martin, Margaret &amp; Glen</td>\n",
       "      <td>Combined Locks</td>\n",
       "      <td>Wisconsin</td>\n",
       "      <td>United States</td>\n",
       "      <td>Mishicot Pumpkin Fest</td>\n",
       "      <td>1788.5 Delatas</td>\n",
       "      <td>1872 Wallace</td>\n",
       "      <td>315.0</td>\n",
       "      <td>700.0</td>\n",
       "      <td>nan</td>\n",
       "      <td>706.0</td>\n",
       "      <td>Giant Pumpkin</td>\n",
       "      <td>6.0</td>\n",
       "    </tr>\n",
       "  </tbody>\n",
       "</table>\n",
       "</div>"
      ],
      "text/plain": [
       "      year type_id  weight  place              grower_name            city  \\\n",
       "3     2013       F   140.8    4.0  Martin, Margaret & Glen  Combined Locks   \n",
       "19    2013       F   128.0   19.5  Martin, Margaret & Glen  Combined Locks   \n",
       "607   2013       P  1338.0  116.0  Martin, Margaret & Glen  Combined Locks   \n",
       "973   2013       P   888.4  497.0  Martin, Margaret & Glen  Combined Locks   \n",
       "1188  2013       P   706.0  716.0  Martin, Margaret & Glen  Combined Locks   \n",
       "\n",
       "     state_prov        country                             gpc_site  \\\n",
       "3     Wisconsin  United States  Cedarburg Wine and Harvest Festival   \n",
       "19    Wisconsin  United States                Mishicot Pumpkin Fest   \n",
       "607   Wisconsin  United States                Mishicot Pumpkin Fest   \n",
       "973   Wisconsin  United States  Cedarburg Wine and Harvest Festival   \n",
       "1188  Wisconsin  United States                Mishicot Pumpkin Fest   \n",
       "\n",
       "           seed_mother pollinator_father    ott  est_weight variety  \\\n",
       "3       109 Martin '12    209 Werner '12  194.0       151.0     nan   \n",
       "19          109 Martin              open  194.0       151.0     nan   \n",
       "607       1872 Wallace     220.3 DeBacco  390.0      1270.0     nan   \n",
       "973   1,250 Martin '12    220.3 De Bacco  357.0      1002.0     nan   \n",
       "1188    1788.5 Delatas      1872 Wallace  315.0       700.0     nan   \n",
       "\n",
       "      weight_bk      type_name  weight_error  \n",
       "3         140.8  Field Pumpkin         -10.2  \n",
       "19        128.0  Field Pumpkin         -23.0  \n",
       "607      1338.0  Giant Pumpkin          68.0  \n",
       "973       888.4  Giant Pumpkin        -113.6  \n",
       "1188      706.0  Giant Pumpkin           6.0  "
      ]
     },
     "execution_count": 67,
     "metadata": {},
     "output_type": "execute_result"
    }
   ],
   "source": [
    "name = 'Martin, Margaret & Glen'\n",
    "best_finish = gourds[gourds['grower_name'] == name]\n",
    "best_finish.head()"
   ]
  },
  {
   "cell_type": "code",
   "execution_count": 68,
   "id": "316b5646-7467-4213-9b47-a7d9fb9ff456",
   "metadata": {},
   "outputs": [
    {
     "data": {
      "text/html": [
       "<div>\n",
       "<style scoped>\n",
       "    .dataframe tbody tr th:only-of-type {\n",
       "        vertical-align: middle;\n",
       "    }\n",
       "\n",
       "    .dataframe tbody tr th {\n",
       "        vertical-align: top;\n",
       "    }\n",
       "\n",
       "    .dataframe thead th {\n",
       "        text-align: right;\n",
       "    }\n",
       "</style>\n",
       "<table border=\"1\" class=\"dataframe\">\n",
       "  <thead>\n",
       "    <tr style=\"text-align: right;\">\n",
       "      <th></th>\n",
       "      <th>year</th>\n",
       "      <th>type_id</th>\n",
       "      <th>weight</th>\n",
       "      <th>place</th>\n",
       "      <th>grower_name</th>\n",
       "      <th>city</th>\n",
       "      <th>state_prov</th>\n",
       "      <th>country</th>\n",
       "      <th>gpc_site</th>\n",
       "      <th>seed_mother</th>\n",
       "      <th>pollinator_father</th>\n",
       "      <th>ott</th>\n",
       "      <th>est_weight</th>\n",
       "      <th>variety</th>\n",
       "      <th>weight_bk</th>\n",
       "      <th>type_name</th>\n",
       "      <th>weight_error</th>\n",
       "    </tr>\n",
       "  </thead>\n",
       "  <tbody>\n",
       "    <tr>\n",
       "      <th>3</th>\n",
       "      <td>2013</td>\n",
       "      <td>F</td>\n",
       "      <td>140.8</td>\n",
       "      <td>4.0</td>\n",
       "      <td>Martin, Margaret &amp; Glen</td>\n",
       "      <td>Combined Locks</td>\n",
       "      <td>Wisconsin</td>\n",
       "      <td>United States</td>\n",
       "      <td>Cedarburg Wine and Harvest Festival</td>\n",
       "      <td>109 Martin '12</td>\n",
       "      <td>209 Werner '12</td>\n",
       "      <td>194.0</td>\n",
       "      <td>151.0</td>\n",
       "      <td>nan</td>\n",
       "      <td>140.8</td>\n",
       "      <td>Field Pumpkin</td>\n",
       "      <td>-10.2</td>\n",
       "    </tr>\n",
       "  </tbody>\n",
       "</table>\n",
       "</div>"
      ],
      "text/plain": [
       "   year type_id  weight  place              grower_name            city  \\\n",
       "3  2013       F   140.8    4.0  Martin, Margaret & Glen  Combined Locks   \n",
       "\n",
       "  state_prov        country                             gpc_site  \\\n",
       "3  Wisconsin  United States  Cedarburg Wine and Harvest Festival   \n",
       "\n",
       "      seed_mother pollinator_father    ott  est_weight variety  weight_bk  \\\n",
       "3  109 Martin '12    209 Werner '12  194.0       151.0     nan      140.8   \n",
       "\n",
       "       type_name  weight_error  \n",
       "3  Field Pumpkin         -10.2  "
      ]
     },
     "execution_count": 68,
     "metadata": {},
     "output_type": "execute_result"
    }
   ],
   "source": [
    "best_finish.sort_values('place', ascending = True).head(1)"
   ]
  },
  {
   "cell_type": "code",
   "execution_count": 69,
   "id": "217dffdd-36e1-4b4d-82c6-4844a3d85abe",
   "metadata": {},
   "outputs": [],
   "source": [
    "#4th!!!!"
   ]
  },
  {
   "cell_type": "markdown",
   "id": "52a7a034-ab52-4163-9900-035ae04066a5",
   "metadata": {},
   "source": [
    "10. The seed_mother and pollinator_father give information on the parents for each gourd."
   ]
  },
  {
   "cell_type": "markdown",
   "id": "580f9eac-6352-4843-af96-5a6d99ce7817",
   "metadata": {},
   "source": [
    "10a. How many gourds appear in the seed_mother column at least 100 times?"
   ]
  },
  {
   "cell_type": "code",
   "execution_count": 72,
   "id": "fee37f31-b9c0-4fdb-a13e-f16dcd1fd6fb",
   "metadata": {},
   "outputs": [],
   "source": [
    "str_cols = gourds.select_dtypes(include='object').columns\n",
    "for col in str_cols:\n",
    "    gourds[col] = gourds[col].astype(str).apply(lambda x: ' '.join(x.split()))"
   ]
  },
  {
   "cell_type": "code",
   "execution_count": 73,
   "id": "2859d85d-06a8-4c9e-a3cb-d34f823a7339",
   "metadata": {},
   "outputs": [],
   "source": [
    "gourds = gourds[~gourds[\"seed_mother\"].str.lower().isin([\"unknown\", \"unkown\", \"unknow\"])]"
   ]
  },
  {
   "cell_type": "code",
   "execution_count": 74,
   "id": "2d5fe849-04d2-4004-bf00-70aa206e21dc",
   "metadata": {},
   "outputs": [
    {
     "data": {
      "text/html": [
       "<div>\n",
       "<style scoped>\n",
       "    .dataframe tbody tr th:only-of-type {\n",
       "        vertical-align: middle;\n",
       "    }\n",
       "\n",
       "    .dataframe tbody tr th {\n",
       "        vertical-align: top;\n",
       "    }\n",
       "\n",
       "    .dataframe thead th {\n",
       "        text-align: right;\n",
       "    }\n",
       "</style>\n",
       "<table border=\"1\" class=\"dataframe\">\n",
       "  <thead>\n",
       "    <tr style=\"text-align: right;\">\n",
       "      <th></th>\n",
       "      <th>year</th>\n",
       "      <th>type_id</th>\n",
       "      <th>weight</th>\n",
       "      <th>place</th>\n",
       "      <th>grower_name</th>\n",
       "      <th>city</th>\n",
       "      <th>state_prov</th>\n",
       "      <th>country</th>\n",
       "      <th>gpc_site</th>\n",
       "      <th>seed_mother</th>\n",
       "      <th>pollinator_father</th>\n",
       "      <th>ott</th>\n",
       "      <th>est_weight</th>\n",
       "      <th>variety</th>\n",
       "      <th>weight_bk</th>\n",
       "      <th>type_name</th>\n",
       "      <th>weight_error</th>\n",
       "    </tr>\n",
       "  </thead>\n",
       "  <tbody>\n",
       "    <tr>\n",
       "      <th>0</th>\n",
       "      <td>2013</td>\n",
       "      <td>F</td>\n",
       "      <td>154.5</td>\n",
       "      <td>1.0</td>\n",
       "      <td>Ellenbecker, Todd &amp; Sequoia</td>\n",
       "      <td>Gleason</td>\n",
       "      <td>Wisconsin</td>\n",
       "      <td>United States</td>\n",
       "      <td>Nekoosa Giant Pumpkin Fest</td>\n",
       "      <td>209 Werner</td>\n",
       "      <td>Self</td>\n",
       "      <td>184.0</td>\n",
       "      <td>129.0</td>\n",
       "      <td>nan</td>\n",
       "      <td>154.5</td>\n",
       "      <td>Field Pumpkin</td>\n",
       "      <td>25.5</td>\n",
       "    </tr>\n",
       "    <tr>\n",
       "      <th>1</th>\n",
       "      <td>2013</td>\n",
       "      <td>F</td>\n",
       "      <td>146.5</td>\n",
       "      <td>2.0</td>\n",
       "      <td>Razo, Steve</td>\n",
       "      <td>New Middletown</td>\n",
       "      <td>Ohio</td>\n",
       "      <td>United States</td>\n",
       "      <td>Ohio Valley Giant Pumpkin Growers Weigh-off</td>\n",
       "      <td>150.5 Snyder</td>\n",
       "      <td>nan</td>\n",
       "      <td>194.0</td>\n",
       "      <td>151.0</td>\n",
       "      <td>nan</td>\n",
       "      <td>146.5</td>\n",
       "      <td>Field Pumpkin</td>\n",
       "      <td>-4.5</td>\n",
       "    </tr>\n",
       "    <tr>\n",
       "      <th>2</th>\n",
       "      <td>2013</td>\n",
       "      <td>F</td>\n",
       "      <td>145.0</td>\n",
       "      <td>3.0</td>\n",
       "      <td>Ellenbecker, Todd &amp; Sequoia</td>\n",
       "      <td>Glenson</td>\n",
       "      <td>Wisconsin</td>\n",
       "      <td>United States</td>\n",
       "      <td>Mishicot Pumpkin Fest</td>\n",
       "      <td>209 Werner</td>\n",
       "      <td>103 Mackinnon</td>\n",
       "      <td>177.0</td>\n",
       "      <td>115.0</td>\n",
       "      <td>nan</td>\n",
       "      <td>145.0</td>\n",
       "      <td>Field Pumpkin</td>\n",
       "      <td>30.0</td>\n",
       "    </tr>\n",
       "    <tr>\n",
       "      <th>3</th>\n",
       "      <td>2013</td>\n",
       "      <td>F</td>\n",
       "      <td>140.8</td>\n",
       "      <td>4.0</td>\n",
       "      <td>Martin, Margaret &amp; Glen</td>\n",
       "      <td>Combined Locks</td>\n",
       "      <td>Wisconsin</td>\n",
       "      <td>United States</td>\n",
       "      <td>Cedarburg Wine and Harvest Festival</td>\n",
       "      <td>109 Martin '12</td>\n",
       "      <td>209 Werner '12</td>\n",
       "      <td>194.0</td>\n",
       "      <td>151.0</td>\n",
       "      <td>nan</td>\n",
       "      <td>140.8</td>\n",
       "      <td>Field Pumpkin</td>\n",
       "      <td>-10.2</td>\n",
       "    </tr>\n",
       "    <tr>\n",
       "      <th>5</th>\n",
       "      <td>2013</td>\n",
       "      <td>F</td>\n",
       "      <td>139.0</td>\n",
       "      <td>5.5</td>\n",
       "      <td>Werner, Quinn</td>\n",
       "      <td>Saegartown</td>\n",
       "      <td>Pennsylvania</td>\n",
       "      <td>United States</td>\n",
       "      <td>Ohio Valley Giant Pumpkin Growers Weigh-off</td>\n",
       "      <td>209 Werner</td>\n",
       "      <td>nan</td>\n",
       "      <td>190.0</td>\n",
       "      <td>141.0</td>\n",
       "      <td>nan</td>\n",
       "      <td>139.0</td>\n",
       "      <td>Field Pumpkin</td>\n",
       "      <td>-2.0</td>\n",
       "    </tr>\n",
       "  </tbody>\n",
       "</table>\n",
       "</div>"
      ],
      "text/plain": [
       "   year type_id  weight  place                  grower_name            city  \\\n",
       "0  2013       F   154.5    1.0  Ellenbecker, Todd & Sequoia         Gleason   \n",
       "1  2013       F   146.5    2.0                  Razo, Steve  New Middletown   \n",
       "2  2013       F   145.0    3.0  Ellenbecker, Todd & Sequoia         Glenson   \n",
       "3  2013       F   140.8    4.0      Martin, Margaret & Glen  Combined Locks   \n",
       "5  2013       F   139.0    5.5                Werner, Quinn      Saegartown   \n",
       "\n",
       "     state_prov        country                                     gpc_site  \\\n",
       "0     Wisconsin  United States                   Nekoosa Giant Pumpkin Fest   \n",
       "1          Ohio  United States  Ohio Valley Giant Pumpkin Growers Weigh-off   \n",
       "2     Wisconsin  United States                        Mishicot Pumpkin Fest   \n",
       "3     Wisconsin  United States          Cedarburg Wine and Harvest Festival   \n",
       "5  Pennsylvania  United States  Ohio Valley Giant Pumpkin Growers Weigh-off   \n",
       "\n",
       "      seed_mother pollinator_father    ott  est_weight variety  weight_bk  \\\n",
       "0      209 Werner              Self  184.0       129.0     nan      154.5   \n",
       "1    150.5 Snyder               nan  194.0       151.0     nan      146.5   \n",
       "2      209 Werner     103 Mackinnon  177.0       115.0     nan      145.0   \n",
       "3  109 Martin '12    209 Werner '12  194.0       151.0     nan      140.8   \n",
       "5      209 Werner               nan  190.0       141.0     nan      139.0   \n",
       "\n",
       "       type_name  weight_error  \n",
       "0  Field Pumpkin          25.5  \n",
       "1  Field Pumpkin          -4.5  \n",
       "2  Field Pumpkin          30.0  \n",
       "3  Field Pumpkin         -10.2  \n",
       "5  Field Pumpkin          -2.0  "
      ]
     },
     "execution_count": 74,
     "metadata": {},
     "output_type": "execute_result"
    }
   ],
   "source": [
    "gourds.head()"
   ]
  },
  {
   "cell_type": "code",
   "execution_count": 75,
   "id": "48d4e00b-446a-4110-989c-01485e7ee188",
   "metadata": {},
   "outputs": [],
   "source": [
    "gourds[\"seed_mother\"] = gourds[\"seed_mother\"].str.replace(r\"\\s*'\\d{2}$\", \"\", regex=True)"
   ]
  },
  {
   "cell_type": "code",
   "execution_count": 76,
   "id": "50e00210-887f-45b0-8470-40bc01a83017",
   "metadata": {},
   "outputs": [
    {
     "data": {
      "text/plain": [
       "7135"
      ]
     },
     "execution_count": 76,
     "metadata": {},
     "output_type": "execute_result"
    }
   ],
   "source": [
    "gourds['seed_mother'].nunique() "
   ]
  },
  {
   "cell_type": "code",
   "execution_count": 77,
   "id": "30dbc46e-f3a7-4bc7-9525-c3db73947992",
   "metadata": {},
   "outputs": [
    {
     "data": {
      "text/plain": [
       "seed_mother\n",
       "nan               3325\n",
       "2145 McMullen      124\n",
       "2009 Wallace       101\n",
       "1985 Miller         86\n",
       "1911 Urena          70\n",
       "                  ... \n",
       "1183 Bollinger       1\n",
       "1119                 1\n",
       "1128.8 Mahr 14       1\n",
       "2096                 1\n",
       "305 Vial             1\n",
       "Name: count, Length: 7135, dtype: int64"
      ]
     },
     "execution_count": 77,
     "metadata": {},
     "output_type": "execute_result"
    }
   ],
   "source": [
    "gourds['seed_mother'].value_counts()"
   ]
  },
  {
   "cell_type": "code",
   "execution_count": 78,
   "id": "342db85e-ad81-41d3-a2af-8b20e990eb70",
   "metadata": {},
   "outputs": [],
   "source": [
    "gourds = gourds[gourds[\"seed_mother\"].str.lower() != \"nan\"]"
   ]
  },
  {
   "cell_type": "code",
   "execution_count": 79,
   "id": "1ce41a7d-470c-46fc-a39d-8a41ec778a4e",
   "metadata": {},
   "outputs": [
    {
     "data": {
      "text/html": [
       "<div>\n",
       "<style scoped>\n",
       "    .dataframe tbody tr th:only-of-type {\n",
       "        vertical-align: middle;\n",
       "    }\n",
       "\n",
       "    .dataframe tbody tr th {\n",
       "        vertical-align: top;\n",
       "    }\n",
       "\n",
       "    .dataframe thead th {\n",
       "        text-align: right;\n",
       "    }\n",
       "</style>\n",
       "<table border=\"1\" class=\"dataframe\">\n",
       "  <thead>\n",
       "    <tr style=\"text-align: right;\">\n",
       "      <th></th>\n",
       "      <th>seed_mother</th>\n",
       "      <th>count</th>\n",
       "    </tr>\n",
       "  </thead>\n",
       "  <tbody>\n",
       "    <tr>\n",
       "      <th>0</th>\n",
       "      <td>2145 McMullen</td>\n",
       "      <td>124</td>\n",
       "    </tr>\n",
       "    <tr>\n",
       "      <th>1</th>\n",
       "      <td>2009 Wallace</td>\n",
       "      <td>101</td>\n",
       "    </tr>\n",
       "    <tr>\n",
       "      <th>2</th>\n",
       "      <td>1985 Miller</td>\n",
       "      <td>86</td>\n",
       "    </tr>\n",
       "    <tr>\n",
       "      <th>3</th>\n",
       "      <td>1911 Urena</td>\n",
       "      <td>70</td>\n",
       "    </tr>\n",
       "    <tr>\n",
       "      <th>4</th>\n",
       "      <td>2363 Holland</td>\n",
       "      <td>60</td>\n",
       "    </tr>\n",
       "    <tr>\n",
       "      <th>...</th>\n",
       "      <td>...</td>\n",
       "      <td>...</td>\n",
       "    </tr>\n",
       "    <tr>\n",
       "      <th>7129</th>\n",
       "      <td>1183 Bollinger</td>\n",
       "      <td>1</td>\n",
       "    </tr>\n",
       "    <tr>\n",
       "      <th>7130</th>\n",
       "      <td>1119</td>\n",
       "      <td>1</td>\n",
       "    </tr>\n",
       "    <tr>\n",
       "      <th>7131</th>\n",
       "      <td>1128.8 Mahr 14</td>\n",
       "      <td>1</td>\n",
       "    </tr>\n",
       "    <tr>\n",
       "      <th>7132</th>\n",
       "      <td>2096</td>\n",
       "      <td>1</td>\n",
       "    </tr>\n",
       "    <tr>\n",
       "      <th>7133</th>\n",
       "      <td>305 Vial</td>\n",
       "      <td>1</td>\n",
       "    </tr>\n",
       "  </tbody>\n",
       "</table>\n",
       "<p>7134 rows × 2 columns</p>\n",
       "</div>"
      ],
      "text/plain": [
       "         seed_mother  count\n",
       "0      2145 McMullen    124\n",
       "1       2009 Wallace    101\n",
       "2        1985 Miller     86\n",
       "3         1911 Urena     70\n",
       "4       2363 Holland     60\n",
       "...              ...    ...\n",
       "7129  1183 Bollinger      1\n",
       "7130            1119      1\n",
       "7131  1128.8 Mahr 14      1\n",
       "7132            2096      1\n",
       "7133        305 Vial      1\n",
       "\n",
       "[7134 rows x 2 columns]"
      ]
     },
     "execution_count": 79,
     "metadata": {},
     "output_type": "execute_result"
    }
   ],
   "source": [
    "mother = gourds['seed_mother'].value_counts().reset_index()\n",
    "mother"
   ]
  },
  {
   "cell_type": "markdown",
   "id": "2bb51d4c-4a46-4619-8b45-347e58e389bc",
   "metadata": {},
   "source": [
    "10a Answer : 2145 McmMullen and 2009 Wallace "
   ]
  },
  {
   "cell_type": "markdown",
   "id": "ad848d5a-a5e3-4585-b481-fcc625a956b0",
   "metadata": {},
   "source": [
    "10b. How many gourds appear in the pollinator_father column at least 100 times?"
   ]
  },
  {
   "cell_type": "code",
   "execution_count": 82,
   "id": "28181feb-f481-4322-89c2-a012eb9dce9a",
   "metadata": {},
   "outputs": [],
   "source": [
    "gourds = gourds[~gourds[\"pollinator_father\"].str.lower().isin([\"unknown\", \"unkown\", \"unknow\"])]"
   ]
  },
  {
   "cell_type": "code",
   "execution_count": 83,
   "id": "fe3cfa94-aba6-41e7-9bd9-3747e4ab36b7",
   "metadata": {},
   "outputs": [],
   "source": [
    "gourds[\"pollinator_father\"] = gourds[\"pollinator_father\"].str.replace(r\"\\s*'\\d{2}$\", \"\", regex=True)"
   ]
  },
  {
   "cell_type": "code",
   "execution_count": 84,
   "id": "e5f02c67-b639-4345-8c2f-252b932cda2e",
   "metadata": {},
   "outputs": [
    {
     "data": {
      "text/plain": [
       "3747"
      ]
     },
     "execution_count": 84,
     "metadata": {},
     "output_type": "execute_result"
    }
   ],
   "source": [
    "gourds['pollinator_father'].nunique() "
   ]
  },
  {
   "cell_type": "code",
   "execution_count": 85,
   "id": "89609660-81c4-4b23-952f-02051f2ed3ab",
   "metadata": {},
   "outputs": [
    {
     "data": {
      "text/plain": [
       "pollinator_father\n",
       "Self               1423\n",
       "self               1420\n",
       "open               1213\n",
       "Open                956\n",
       "nan                 839\n",
       "                   ... \n",
       "1046 mclaughlin       1\n",
       "854 Tovar             1\n",
       "1571 Parks            1\n",
       "Johnson 1749          1\n",
       "332 Mudd              1\n",
       "Name: count, Length: 3747, dtype: int64"
      ]
     },
     "execution_count": 85,
     "metadata": {},
     "output_type": "execute_result"
    }
   ],
   "source": [
    "gourds['pollinator_father'].value_counts()"
   ]
  },
  {
   "cell_type": "code",
   "execution_count": 86,
   "id": "c2fd2956-2a56-4d04-9abe-553f9383fbdd",
   "metadata": {},
   "outputs": [],
   "source": [
    "gourds = gourds[~gourds[\"pollinator_father\"].str.lower().isin([\"Self\", \"self\", \"open\", \"Open\", \"nan\"])]"
   ]
  },
  {
   "cell_type": "code",
   "execution_count": 87,
   "id": "cf2abd9e-aa32-46ee-9a18-d38e6dc3dbbb",
   "metadata": {},
   "outputs": [
    {
     "data": {
      "text/html": [
       "<div>\n",
       "<style scoped>\n",
       "    .dataframe tbody tr th:only-of-type {\n",
       "        vertical-align: middle;\n",
       "    }\n",
       "\n",
       "    .dataframe tbody tr th {\n",
       "        vertical-align: top;\n",
       "    }\n",
       "\n",
       "    .dataframe thead th {\n",
       "        text-align: right;\n",
       "    }\n",
       "</style>\n",
       "<table border=\"1\" class=\"dataframe\">\n",
       "  <thead>\n",
       "    <tr style=\"text-align: right;\">\n",
       "      <th></th>\n",
       "      <th>pollinator_father</th>\n",
       "      <th>count</th>\n",
       "    </tr>\n",
       "  </thead>\n",
       "  <tbody>\n",
       "    <tr>\n",
       "      <th>0</th>\n",
       "      <td>2009 Wallace</td>\n",
       "      <td>139</td>\n",
       "    </tr>\n",
       "    <tr>\n",
       "      <th>1</th>\n",
       "      <td>2145 McMullen</td>\n",
       "      <td>117</td>\n",
       "    </tr>\n",
       "    <tr>\n",
       "      <th>2</th>\n",
       "      <td>1985 Miller</td>\n",
       "      <td>66</td>\n",
       "    </tr>\n",
       "    <tr>\n",
       "      <th>3</th>\n",
       "      <td>1911 Urena</td>\n",
       "      <td>61</td>\n",
       "    </tr>\n",
       "    <tr>\n",
       "      <th>4</th>\n",
       "      <td>sib</td>\n",
       "      <td>57</td>\n",
       "    </tr>\n",
       "    <tr>\n",
       "      <th>...</th>\n",
       "      <td>...</td>\n",
       "      <td>...</td>\n",
       "    </tr>\n",
       "    <tr>\n",
       "      <th>3734</th>\n",
       "      <td>1734.5 Clementz (15)</td>\n",
       "      <td>1</td>\n",
       "    </tr>\n",
       "    <tr>\n",
       "      <th>3735</th>\n",
       "      <td>1518 kline</td>\n",
       "      <td>1</td>\n",
       "    </tr>\n",
       "    <tr>\n",
       "      <th>3736</th>\n",
       "      <td>1696 Kaminski</td>\n",
       "      <td>1</td>\n",
       "    </tr>\n",
       "    <tr>\n",
       "      <th>3737</th>\n",
       "      <td>1521 cutrupi</td>\n",
       "      <td>1</td>\n",
       "    </tr>\n",
       "    <tr>\n",
       "      <th>3738</th>\n",
       "      <td>332 Mudd</td>\n",
       "      <td>1</td>\n",
       "    </tr>\n",
       "  </tbody>\n",
       "</table>\n",
       "<p>3739 rows × 2 columns</p>\n",
       "</div>"
      ],
      "text/plain": [
       "         pollinator_father  count\n",
       "0             2009 Wallace    139\n",
       "1            2145 McMullen    117\n",
       "2              1985 Miller     66\n",
       "3               1911 Urena     61\n",
       "4                      sib     57\n",
       "...                    ...    ...\n",
       "3734  1734.5 Clementz (15)      1\n",
       "3735            1518 kline      1\n",
       "3736         1696 Kaminski      1\n",
       "3737          1521 cutrupi      1\n",
       "3738              332 Mudd      1\n",
       "\n",
       "[3739 rows x 2 columns]"
      ]
     },
     "execution_count": 87,
     "metadata": {},
     "output_type": "execute_result"
    }
   ],
   "source": [
    "father = gourds['pollinator_father'].value_counts().reset_index()\n",
    "father"
   ]
  },
  {
   "cell_type": "markdown",
   "id": "6b14162d-2edd-45d8-83c2-bea4dce03c27",
   "metadata": {},
   "source": [
    "10b Answer : 2009 Wallace and 2145 Mcmullen"
   ]
  },
  {
   "cell_type": "markdown",
   "id": "929b17b2-eb0d-4b7c-ae70-fa321451a001",
   "metadata": {},
   "source": [
    "10c. How many gourds have at least 100 offspring that have appeared in the GPC Weighoff?"
   ]
  },
  {
   "cell_type": "code",
   "execution_count": 90,
   "id": "e55e51b6-3d19-4530-ad4c-4d3053ce5109",
   "metadata": {},
   "outputs": [],
   "source": [
    "father = father.rename(columns={'pollinator_father': 'seed_mother'})"
   ]
  },
  {
   "cell_type": "code",
   "execution_count": 167,
   "id": "13b1125c-ad24-4f1d-ae33-041b494febf7",
   "metadata": {},
   "outputs": [
    {
     "data": {
      "text/html": [
       "<div>\n",
       "<style scoped>\n",
       "    .dataframe tbody tr th:only-of-type {\n",
       "        vertical-align: middle;\n",
       "    }\n",
       "\n",
       "    .dataframe tbody tr th {\n",
       "        vertical-align: top;\n",
       "    }\n",
       "\n",
       "    .dataframe thead th {\n",
       "        text-align: right;\n",
       "    }\n",
       "</style>\n",
       "<table border=\"1\" class=\"dataframe\">\n",
       "  <thead>\n",
       "    <tr style=\"text-align: right;\">\n",
       "      <th></th>\n",
       "      <th>seed_mother</th>\n",
       "      <th>count_x</th>\n",
       "      <th>count_y</th>\n",
       "    </tr>\n",
       "  </thead>\n",
       "  <tbody>\n",
       "    <tr>\n",
       "      <th>0</th>\n",
       "      <td>2145 McMullen</td>\n",
       "      <td>124</td>\n",
       "      <td>117</td>\n",
       "    </tr>\n",
       "    <tr>\n",
       "      <th>1</th>\n",
       "      <td>2009 Wallace</td>\n",
       "      <td>101</td>\n",
       "      <td>139</td>\n",
       "    </tr>\n",
       "    <tr>\n",
       "      <th>2</th>\n",
       "      <td>1985 Miller</td>\n",
       "      <td>86</td>\n",
       "      <td>66</td>\n",
       "    </tr>\n",
       "    <tr>\n",
       "      <th>3</th>\n",
       "      <td>1911 Urena</td>\n",
       "      <td>70</td>\n",
       "      <td>61</td>\n",
       "    </tr>\n",
       "    <tr>\n",
       "      <th>4</th>\n",
       "      <td>2363 Holland</td>\n",
       "      <td>60</td>\n",
       "      <td>53</td>\n",
       "    </tr>\n",
       "    <tr>\n",
       "      <th>5</th>\n",
       "      <td>2008 Neptune</td>\n",
       "      <td>57</td>\n",
       "      <td>37</td>\n",
       "    </tr>\n",
       "    <tr>\n",
       "      <th>6</th>\n",
       "      <td>1495 Stelts</td>\n",
       "      <td>52</td>\n",
       "      <td>45</td>\n",
       "    </tr>\n",
       "    <tr>\n",
       "      <th>7</th>\n",
       "      <td>2032 Mathison</td>\n",
       "      <td>42</td>\n",
       "      <td>55</td>\n",
       "    </tr>\n",
       "    <tr>\n",
       "      <th>8</th>\n",
       "      <td>2230 Wallace</td>\n",
       "      <td>38</td>\n",
       "      <td>39</td>\n",
       "    </tr>\n",
       "    <tr>\n",
       "      <th>9</th>\n",
       "      <td>1317 Clementz</td>\n",
       "      <td>37</td>\n",
       "      <td>32</td>\n",
       "    </tr>\n",
       "  </tbody>\n",
       "</table>\n",
       "</div>"
      ],
      "text/plain": [
       "     seed_mother  count_x  count_y\n",
       "0  2145 McMullen      124      117\n",
       "1   2009 Wallace      101      139\n",
       "2    1985 Miller       86       66\n",
       "3     1911 Urena       70       61\n",
       "4   2363 Holland       60       53\n",
       "5   2008 Neptune       57       37\n",
       "6    1495 Stelts       52       45\n",
       "7  2032 Mathison       42       55\n",
       "8   2230 Wallace       38       39\n",
       "9  1317 Clementz       37       32"
      ]
     },
     "execution_count": 167,
     "metadata": {},
     "output_type": "execute_result"
    }
   ],
   "source": [
    "merged_parents = pd.merge(mother, father, on='seed_mother', how='inner')\n",
    "merged_parents.head(10)"
   ]
  },
  {
   "cell_type": "code",
   "execution_count": null,
   "id": "1b43b242-d7f7-46db-b72d-429f77c129c5",
   "metadata": {},
   "outputs": [],
   "source": []
  },
  {
   "cell_type": "code",
   "execution_count": 92,
   "id": "33cb412f-0b13-41ed-bd34-16e618a14d55",
   "metadata": {},
   "outputs": [],
   "source": [
    "#mother = mother.rename(columns={'count': 'mothers'})"
   ]
  },
  {
   "cell_type": "code",
   "execution_count": 93,
   "id": "28e5c1c9-1854-43c5-9755-a8ccefa98b59",
   "metadata": {},
   "outputs": [],
   "source": [
    "#father = father.rename(columns={'count': 'fathers'})"
   ]
  },
  {
   "cell_type": "code",
   "execution_count": 94,
   "id": "7d9ef13b-97ce-4cd9-ad60-c85cc01ba2f6",
   "metadata": {},
   "outputs": [],
   "source": [
    "#parents = pd.concat([mother, father],axis=1)\n",
    "#parents"
   ]
  },
  {
   "cell_type": "markdown",
   "id": "e0d38bc0-d83d-44cc-8ffa-f4b9f38a14a6",
   "metadata": {},
   "source": [
    "10c how many gourds appear at least 100 times between the seed_mother and pollinator_father columns combined?"
   ]
  },
  {
   "cell_type": "code",
   "execution_count": 96,
   "id": "dd94b538-60f1-4df4-b512-0ccccae5fc7b",
   "metadata": {},
   "outputs": [
    {
     "data": {
      "text/html": [
       "<div>\n",
       "<style scoped>\n",
       "    .dataframe tbody tr th:only-of-type {\n",
       "        vertical-align: middle;\n",
       "    }\n",
       "\n",
       "    .dataframe tbody tr th {\n",
       "        vertical-align: top;\n",
       "    }\n",
       "\n",
       "    .dataframe thead th {\n",
       "        text-align: right;\n",
       "    }\n",
       "</style>\n",
       "<table border=\"1\" class=\"dataframe\">\n",
       "  <thead>\n",
       "    <tr style=\"text-align: right;\">\n",
       "      <th></th>\n",
       "      <th>year</th>\n",
       "      <th>type_id</th>\n",
       "      <th>weight</th>\n",
       "      <th>place</th>\n",
       "      <th>grower_name</th>\n",
       "      <th>city</th>\n",
       "      <th>state_prov</th>\n",
       "      <th>country</th>\n",
       "      <th>gpc_site</th>\n",
       "      <th>seed_mother</th>\n",
       "      <th>pollinator_father</th>\n",
       "      <th>ott</th>\n",
       "      <th>est_weight</th>\n",
       "      <th>variety</th>\n",
       "      <th>weight_bk</th>\n",
       "      <th>type_name</th>\n",
       "      <th>weight_error</th>\n",
       "    </tr>\n",
       "  </thead>\n",
       "  <tbody>\n",
       "    <tr>\n",
       "      <th>2</th>\n",
       "      <td>2013</td>\n",
       "      <td>F</td>\n",
       "      <td>145.0</td>\n",
       "      <td>3.0</td>\n",
       "      <td>Ellenbecker, Todd &amp; Sequoia</td>\n",
       "      <td>Glenson</td>\n",
       "      <td>Wisconsin</td>\n",
       "      <td>United States</td>\n",
       "      <td>Mishicot Pumpkin Fest</td>\n",
       "      <td>209 Werner</td>\n",
       "      <td>103 Mackinnon</td>\n",
       "      <td>177.0</td>\n",
       "      <td>115.0</td>\n",
       "      <td>nan</td>\n",
       "      <td>145.0</td>\n",
       "      <td>Field Pumpkin</td>\n",
       "      <td>30.0</td>\n",
       "    </tr>\n",
       "    <tr>\n",
       "      <th>3</th>\n",
       "      <td>2013</td>\n",
       "      <td>F</td>\n",
       "      <td>140.8</td>\n",
       "      <td>4.0</td>\n",
       "      <td>Martin, Margaret &amp; Glen</td>\n",
       "      <td>Combined Locks</td>\n",
       "      <td>Wisconsin</td>\n",
       "      <td>United States</td>\n",
       "      <td>Cedarburg Wine and Harvest Festival</td>\n",
       "      <td>109 Martin</td>\n",
       "      <td>209 Werner</td>\n",
       "      <td>194.0</td>\n",
       "      <td>151.0</td>\n",
       "      <td>nan</td>\n",
       "      <td>140.8</td>\n",
       "      <td>Field Pumpkin</td>\n",
       "      <td>-10.2</td>\n",
       "    </tr>\n",
       "    <tr>\n",
       "      <th>7</th>\n",
       "      <td>2013</td>\n",
       "      <td>F</td>\n",
       "      <td>136.0</td>\n",
       "      <td>9.0</td>\n",
       "      <td>Werner, Quinn</td>\n",
       "      <td>Saegertown</td>\n",
       "      <td>Pennsylvania</td>\n",
       "      <td>United States</td>\n",
       "      <td>Operation Pumpkin</td>\n",
       "      <td>209,B Werner</td>\n",
       "      <td>150.5 Razo</td>\n",
       "      <td>182.0</td>\n",
       "      <td>124.0</td>\n",
       "      <td>nan</td>\n",
       "      <td>136.0</td>\n",
       "      <td>Field Pumpkin</td>\n",
       "      <td>12.0</td>\n",
       "    </tr>\n",
       "    <tr>\n",
       "      <th>11</th>\n",
       "      <td>2013</td>\n",
       "      <td>F</td>\n",
       "      <td>131.0</td>\n",
       "      <td>13.0</td>\n",
       "      <td>MacKinnon, John</td>\n",
       "      <td>Strathlorne</td>\n",
       "      <td>Nova Scotia</td>\n",
       "      <td>Canada</td>\n",
       "      <td>Joe King Memorial Giant Pumpkin Weigh-off</td>\n",
       "      <td>110 MacKinnon</td>\n",
       "      <td>103 MacKinnon</td>\n",
       "      <td>177.0</td>\n",
       "      <td>115.0</td>\n",
       "      <td>nan</td>\n",
       "      <td>131.0</td>\n",
       "      <td>Field Pumpkin</td>\n",
       "      <td>16.0</td>\n",
       "    </tr>\n",
       "    <tr>\n",
       "      <th>12</th>\n",
       "      <td>2013</td>\n",
       "      <td>F</td>\n",
       "      <td>130.5</td>\n",
       "      <td>14.0</td>\n",
       "      <td>Werner, Quinn</td>\n",
       "      <td>Saegertown</td>\n",
       "      <td>Pennsylvania</td>\n",
       "      <td>United States</td>\n",
       "      <td>Ohio Valley Giant Pumpkin Growers Weigh-off</td>\n",
       "      <td>209 Werner</td>\n",
       "      <td>150.5 Razo</td>\n",
       "      <td>182.0</td>\n",
       "      <td>125.0</td>\n",
       "      <td>nan</td>\n",
       "      <td>130.5</td>\n",
       "      <td>Field Pumpkin</td>\n",
       "      <td>5.5</td>\n",
       "    </tr>\n",
       "  </tbody>\n",
       "</table>\n",
       "</div>"
      ],
      "text/plain": [
       "    year type_id  weight  place                  grower_name            city  \\\n",
       "2   2013       F   145.0    3.0  Ellenbecker, Todd & Sequoia         Glenson   \n",
       "3   2013       F   140.8    4.0      Martin, Margaret & Glen  Combined Locks   \n",
       "7   2013       F   136.0    9.0                Werner, Quinn      Saegertown   \n",
       "11  2013       F   131.0   13.0              MacKinnon, John     Strathlorne   \n",
       "12  2013       F   130.5   14.0                Werner, Quinn      Saegertown   \n",
       "\n",
       "      state_prov        country                                     gpc_site  \\\n",
       "2      Wisconsin  United States                        Mishicot Pumpkin Fest   \n",
       "3      Wisconsin  United States          Cedarburg Wine and Harvest Festival   \n",
       "7   Pennsylvania  United States                            Operation Pumpkin   \n",
       "11   Nova Scotia         Canada    Joe King Memorial Giant Pumpkin Weigh-off   \n",
       "12  Pennsylvania  United States  Ohio Valley Giant Pumpkin Growers Weigh-off   \n",
       "\n",
       "      seed_mother pollinator_father    ott  est_weight variety  weight_bk  \\\n",
       "2      209 Werner     103 Mackinnon  177.0       115.0     nan      145.0   \n",
       "3      109 Martin        209 Werner  194.0       151.0     nan      140.8   \n",
       "7    209,B Werner        150.5 Razo  182.0       124.0     nan      136.0   \n",
       "11  110 MacKinnon     103 MacKinnon  177.0       115.0     nan      131.0   \n",
       "12     209 Werner        150.5 Razo  182.0       125.0     nan      130.5   \n",
       "\n",
       "        type_name  weight_error  \n",
       "2   Field Pumpkin          30.0  \n",
       "3   Field Pumpkin         -10.2  \n",
       "7   Field Pumpkin          12.0  \n",
       "11  Field Pumpkin          16.0  \n",
       "12  Field Pumpkin           5.5  "
      ]
     },
     "execution_count": 96,
     "metadata": {},
     "output_type": "execute_result"
    }
   ],
   "source": [
    "gourds.head(5)"
   ]
  },
  {
   "cell_type": "code",
   "execution_count": null,
   "id": "57fff45d-0331-408a-9a8e-3d58a888f305",
   "metadata": {},
   "outputs": [],
   "source": []
  }
 ],
 "metadata": {
  "kernelspec": {
   "display_name": "Python [conda env:base] *",
   "language": "python",
   "name": "conda-base-py"
  },
  "language_info": {
   "codemirror_mode": {
    "name": "ipython",
    "version": 3
   },
   "file_extension": ".py",
   "mimetype": "text/x-python",
   "name": "python",
   "nbconvert_exporter": "python",
   "pygments_lexer": "ipython3",
   "version": "3.12.7"
  }
 },
 "nbformat": 4,
 "nbformat_minor": 5
}
